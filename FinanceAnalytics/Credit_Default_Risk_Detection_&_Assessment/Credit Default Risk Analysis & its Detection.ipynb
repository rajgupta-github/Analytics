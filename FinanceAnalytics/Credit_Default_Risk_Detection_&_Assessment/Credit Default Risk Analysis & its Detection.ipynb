{
 "cells": [
  {
   "cell_type": "markdown",
   "metadata": {
    "colab_type": "text",
    "id": "JYIPqAjV5DOk"
   },
   "source": [
    "<center><img src=\"https://github.com/insaid2018/Term-1/blob/master/Images/INSAID_Full%20Logo.png?raw=true\" width=\"240\" height=\"120\" /></center>"
   ]
  },
  {
   "cell_type": "markdown",
   "metadata": {
    "colab_type": "text",
    "id": "sHx6wRXT5GcJ"
   },
   "source": [
    "# Table of Contents\n",
    "\n",
    "1. [Introduction](#Section1)<br>\n",
    "2. [Problem Statement](#Section2)<br>\n",
    "3. [Installing & Importing Libraries](#Section3)<br>\n",
    "4. [Data Acquisition & Description](#Section4)<br>\n",
    "5. [Data Pre-processing](#Section5)<br>\n",
    "6. [Exploratory Data Analysis](#Section6)<br>\n",
    "7. [Post Data Processing & Feature Selection](#Section7)<br>\n",
    "8. [Model Development & Evaluation](#Section8)<br>\n",
    "  8.1 [Baseline Models](#Section81)<br>\n",
    "  8.2 [Oversampling Models](#Section82)<br>\n",
    "9. [Conclusion](#Section9)<br>\n"
   ]
  },
  {
   "cell_type": "markdown",
   "metadata": {
    "colab_type": "text",
    "id": "QtRaadFA504Z"
   },
   "source": [
    "<a id = Section1></a>\n",
    "# 1. Introduction\n",
    "\n",
    "According to the <a href = \"https://www.newyorkfed.org/medialibrary/interactives/householdcredit/data/pdf/HHDC_2019Q3.pdf\">CMD's latest Quarterly Report</a> on Household Debt and Credit reveals that total household debt has **increased by $\\$$92 billion** to **$\\$$13.95 trillion** in the **third quarter** of **2019**. It was the **twenty-first consecutive quarterly** **increase**, and the total is now  **$\\$$1.3 trillion higher**, in nominal terms, than the previous peak of  $\\$$12.68 trillion in the third quarter of 2008. Non-housing balances increased by **$\\$$64 billion** in the third quarter, with increases across the board, including **$\\$$18 billion** in auto loans, **$\\$$13 billion** in credit card balances, and **$\\$$20 billion** in student loans.\n",
    "\n",
    "<center><img src=\"https://raw.githubusercontent.com/insaid2018/Domain_Case_Studies/master/Finance/loan%203.png\"></center>\n",
    "\n",
    "\n"
   ]
  },
  {
   "cell_type": "markdown",
   "metadata": {
    "colab_type": "text",
    "id": "ca_2AGr_NLPq"
   },
   "source": [
    "# 2. Problem Statement\n",
    "\n",
    "**The process of issuing loans has increased in complexity over the years due to the different possibilities, market demands and clients’ circumstances.** Many people struggle to get loans due to insufficient or non-existent credit histories. And, unfortunately, this population is often taken advantage of by treacherous lenders. This has made banks a highly regulated entity which is expected to act responsively while providing loans.\n",
    "\n",
    "<center><img src=\"https://raw.githubusercontent.com/insaid2018/Domain_Case_Studies/master/Finance/loan2.png\"></center>\n",
    "\n",
    "**<h3>Scenario:</h3>** \n",
    "\n",
    "**IndNatBank** is a peer to peer loan financial company who provides loan to its potential customers all over the India. They make profit based on the **risk** they issues loans to the borrowers. Based on the previous data they want to analyze the risk of issuing loans to the new customers which at the same time also helps to **improve the personalization user experience while applying for loans.**\n",
    "\n",
    "They have experienced employees who uses the complex rules to provide services to their customers. **But as the size of data will increase their traditional ways of assessing risk might not be good for the company**. They wants to **automate their process by which machine learns the pattern out of their data for better customer experience.**\n",
    "\n",
    "Now the question is how this problem could be solved using Machine Learning? While there are many ways to assess the credit loan risk and its depiction. We will be working with a simple scenario to solve this problem.\n",
    "\n",
    "The **target feature** in the acquired data set is **is_default** and it's values are:\n",
    "\n",
    "|Target Feature|Potential Values|\n",
    "| :-- | :-- |\n",
    "|**is_default**|0: Not default|\n",
    "||1: Default|"
   ]
  },
  {
   "cell_type": "markdown",
   "metadata": {
    "colab_type": "text",
    "id": "0FNwKvJEuyL0"
   },
   "source": [
    "<a id = Section3></a>\n",
    "# 3. Installing & Importing Libraries"
   ]
  },
  {
   "cell_type": "code",
   "execution_count": 1,
   "metadata": {
    "colab": {
     "base_uri": "https://localhost:8080/",
     "height": 51
    },
    "colab_type": "code",
    "id": "KHnIy7tjHrSg",
    "outputId": "0555ed2a-a978-4850-8e1e-d4ebe8c63566"
   },
   "outputs": [],
   "source": [
    "!pip install -q datascience\n",
    "!pip install -q pandas-profiling\n",
    "!pip install -q yellowbrick"
   ]
  },
  {
   "cell_type": "code",
   "execution_count": 1,
   "metadata": {
    "colab": {
     "base_uri": "https://localhost:8080/",
     "height": 139
    },
    "colab_type": "code",
    "id": "e0vn7MOD4wll",
    "outputId": "005eff28-8c3b-4649-d6c1-ce70cbdb9872"
   },
   "outputs": [
    {
     "name": "stderr",
     "output_type": "stream",
     "text": [
      "Using TensorFlow backend.\n"
     ]
    }
   ],
   "source": [
    "# For Panel Data Analysis\n",
    "import pandas as pd\n",
    "from pandas_profiling import ProfileReport\n",
    "pd.set_option('display.max_columns', None)\n",
    "pd.set_option('display.max_rows', None)\n",
    "pd.options.mode.chained_assignment = None\n",
    "# For Numerical Python\n",
    "import numpy as np\n",
    "# For Random seed values\n",
    "from random import randint\n",
    "# For Data Visualization\n",
    "import matplotlib.pyplot as plt\n",
    "import matplotlib.lines as mlines\n",
    "import seaborn as sns\n",
    "# For Scientific Computation\n",
    "from scipy import stats\n",
    "# For Preprocessing\n",
    "from sklearn.preprocessing import LabelEncoder, OneHotEncoder, MinMaxScaler, StandardScaler\n",
    "# For Feature Selection\n",
    "from sklearn.feature_selection import SelectFromModel\n",
    "%matplotlib inline\n",
    "# For Data Modeling and Evaluation\n",
    "from sklearn.model_selection import train_test_split\n",
    "from sklearn.linear_model import LogisticRegression\n",
    "from sklearn.ensemble import RandomForestClassifier\n",
    "from xgboost.sklearn import XGBClassifier\n",
    "from sklearn.metrics import classification_report\n",
    "from yellowbrick.classifier import PrecisionRecallCurve\n",
    "from xgboost import to_graphviz, plot_importance\n",
    "# To handle class imbalance problem\n",
    "from imblearn.over_sampling import SMOTE\n",
    "# To Disable Warnings\n",
    "import warnings\n",
    "warnings.filterwarnings(action = \"ignore\")\n",
    "pd.options.display.float_format = \"{:,.0f}\".format"
   ]
  },
  {
   "cell_type": "markdown",
   "metadata": {
    "colab_type": "text",
    "id": "F2_pGHxovZ0D"
   },
   "source": [
    "<a id=Section4></a>\n",
    "# 4. Data Acquisition & Description\n",
    "\n",
    "We have extracted the data, **year(2007-2015),** of **customer being defaulter** and it can be retrieved from the <a href=\"https://storage.googleapis.com/industryanalytics/LoanDefaultData.csv\">link</a>.\n",
    "\n",
    "| Records | Features | Dataset Size |\n",
    "| :-- | :-- | :-- |\n",
    "| 8,87,379 | 22 | 131 MB|\n",
    "\n",
    "| Id | Features | Description |\n",
    "| :--| :--| :--|\n",
    "|01|**cust_id**|Unique ID of customer|\n",
    "|02|**year**|Loan Applied Year|\n",
    "|03|**state**|State where loan was approved|\n",
    "|04|**date_issued**|Date when loan was issued|\n",
    "|05|**date_final**|Final date of loan payment|\n",
    "|06|**emp_duration**|Employment duration(in years). Range=[0, 10] , where 0 indicates < 1 year and 10 indicates >=10 years|\n",
    "|07|**own_type**|A status provided by the borrower during registration.  Possible values are MORTGAGE, OTHER, NONE, ANY, RENT, OWN|\n",
    "|08|**income_type**|Income categorization of customer. Possible values are Low, Medium, High|\n",
    "|09|**app_type**|Signifies whether the loan is an individual application or a joint application|\n",
    "|10|**loan_purpose**|Signifies the requirement of loan|\n",
    "|11|**interest_payments**|Signifies the type of interest payments, categorized under Low and High|\n",
    "|12|**grade**|Assigned loan grade by the company|\n",
    "|13|**annual_pay**|Annual salary of the customer|\n",
    "|14|**loan_amount**|Loan amount required by the customer|\n",
    "|15|**interest_rate**|Interest rate on the lent money|\n",
    "|16|**loan_duration**|Loan repayment duration in months(36 or 60)|\n",
    "|17|**dti**|Debt-to-Income(DTI) is the percentage of a consumer's monthly gross income that goes toward paying debts.|\n",
    "|18|**total_pymnt**|Total amount that has been paid so far|\n",
    "|19|**total_rec_prncp**| Total recoverd principal amount so far|\n",
    "|20|**recoveries**|Amount that has yet to recover|\n",
    "|21|**installment**|Monthly payment owed by the borrower|\n",
    "|22|**is_default**|Customer been default or not|\n"
   ]
  },
  {
   "cell_type": "code",
   "execution_count": 2,
   "metadata": {
    "colab": {
     "base_uri": "https://localhost:8080/",
     "height": 292
    },
    "colab_type": "code",
    "id": "nSwuFt3Hi-7a",
    "outputId": "2ac7cf62-a75a-442e-e9b4-215f15c0d512"
   },
   "outputs": [
    {
     "name": "stdout",
     "output_type": "stream",
     "text": [
      "Data Shape: (887379, 22)\n"
     ]
    },
    {
     "data": {
      "text/html": [
       "<div>\n",
       "<style scoped>\n",
       "    .dataframe tbody tr th:only-of-type {\n",
       "        vertical-align: middle;\n",
       "    }\n",
       "\n",
       "    .dataframe tbody tr th {\n",
       "        vertical-align: top;\n",
       "    }\n",
       "\n",
       "    .dataframe thead th {\n",
       "        text-align: right;\n",
       "    }\n",
       "</style>\n",
       "<table border=\"1\" class=\"dataframe\">\n",
       "  <thead>\n",
       "    <tr style=\"text-align: right;\">\n",
       "      <th></th>\n",
       "      <th>cust_id</th>\n",
       "      <th>year</th>\n",
       "      <th>state</th>\n",
       "      <th>date_issued</th>\n",
       "      <th>date_final</th>\n",
       "      <th>emp_duration</th>\n",
       "      <th>own_type</th>\n",
       "      <th>income_type</th>\n",
       "      <th>app_type</th>\n",
       "      <th>loan_purpose</th>\n",
       "      <th>interest_payments</th>\n",
       "      <th>grade</th>\n",
       "      <th>annual_pay</th>\n",
       "      <th>loan_amount</th>\n",
       "      <th>interest_rate</th>\n",
       "      <th>loan_duration</th>\n",
       "      <th>dti</th>\n",
       "      <th>total_pymnt</th>\n",
       "      <th>total_rec_prncp</th>\n",
       "      <th>recoveries</th>\n",
       "      <th>installment</th>\n",
       "      <th>is_default</th>\n",
       "    </tr>\n",
       "  </thead>\n",
       "  <tbody>\n",
       "    <tr>\n",
       "      <th>0</th>\n",
       "      <td>180675</td>\n",
       "      <td>2007</td>\n",
       "      <td>Andhra Pradesh</td>\n",
       "      <td>01/12/2007</td>\n",
       "      <td>1032009</td>\n",
       "      <td>10</td>\n",
       "      <td>MORTGAGE</td>\n",
       "      <td>Low</td>\n",
       "      <td>INDIVIDUAL</td>\n",
       "      <td>debt_consolidation</td>\n",
       "      <td>Low</td>\n",
       "      <td>C</td>\n",
       "      <td>73000</td>\n",
       "      <td>25000</td>\n",
       "      <td>11</td>\n",
       "      <td>36 months</td>\n",
       "      <td>22</td>\n",
       "      <td>13,650</td>\n",
       "      <td>8,767</td>\n",
       "      <td>2,208</td>\n",
       "      <td>817</td>\n",
       "      <td>1</td>\n",
       "    </tr>\n",
       "    <tr>\n",
       "      <th>1</th>\n",
       "      <td>85781</td>\n",
       "      <td>2007</td>\n",
       "      <td>Rajasthan</td>\n",
       "      <td>01/06/2007</td>\n",
       "      <td>1072010</td>\n",
       "      <td>0</td>\n",
       "      <td>RENT</td>\n",
       "      <td>Low</td>\n",
       "      <td>INDIVIDUAL</td>\n",
       "      <td>other</td>\n",
       "      <td>Low</td>\n",
       "      <td>C</td>\n",
       "      <td>40000</td>\n",
       "      <td>1400</td>\n",
       "      <td>11</td>\n",
       "      <td>36 months</td>\n",
       "      <td>9</td>\n",
       "      <td>1,663</td>\n",
       "      <td>1,400</td>\n",
       "      <td>0</td>\n",
       "      <td>46</td>\n",
       "      <td>0</td>\n",
       "    </tr>\n",
       "    <tr>\n",
       "      <th>2</th>\n",
       "      <td>85675</td>\n",
       "      <td>2007</td>\n",
       "      <td>Manipur</td>\n",
       "      <td>01/06/2007</td>\n",
       "      <td>1062010</td>\n",
       "      <td>10</td>\n",
       "      <td>RENT</td>\n",
       "      <td>Low</td>\n",
       "      <td>INDIVIDUAL</td>\n",
       "      <td>other</td>\n",
       "      <td>High</td>\n",
       "      <td>E</td>\n",
       "      <td>25000</td>\n",
       "      <td>1000</td>\n",
       "      <td>14</td>\n",
       "      <td>36 months</td>\n",
       "      <td>16</td>\n",
       "      <td>1,231</td>\n",
       "      <td>1,000</td>\n",
       "      <td>0</td>\n",
       "      <td>34</td>\n",
       "      <td>0</td>\n",
       "    </tr>\n",
       "    <tr>\n",
       "      <th>3</th>\n",
       "      <td>84918</td>\n",
       "      <td>2007</td>\n",
       "      <td>Andhra Pradesh</td>\n",
       "      <td>01/09/2007</td>\n",
       "      <td>1042008</td>\n",
       "      <td>10</td>\n",
       "      <td>MORTGAGE</td>\n",
       "      <td>Low</td>\n",
       "      <td>INDIVIDUAL</td>\n",
       "      <td>other</td>\n",
       "      <td>Low</td>\n",
       "      <td>A</td>\n",
       "      <td>65000</td>\n",
       "      <td>5000</td>\n",
       "      <td>7</td>\n",
       "      <td>36 months</td>\n",
       "      <td>0</td>\n",
       "      <td>5,200</td>\n",
       "      <td>5,000</td>\n",
       "      <td>0</td>\n",
       "      <td>155</td>\n",
       "      <td>0</td>\n",
       "    </tr>\n",
       "    <tr>\n",
       "      <th>4</th>\n",
       "      <td>84670</td>\n",
       "      <td>2007</td>\n",
       "      <td>Arunachal Pradesh</td>\n",
       "      <td>01/06/2007</td>\n",
       "      <td>1082009</td>\n",
       "      <td>10</td>\n",
       "      <td>MORTGAGE</td>\n",
       "      <td>High</td>\n",
       "      <td>INDIVIDUAL</td>\n",
       "      <td>other</td>\n",
       "      <td>Low</td>\n",
       "      <td>A</td>\n",
       "      <td>300000</td>\n",
       "      <td>5000</td>\n",
       "      <td>8</td>\n",
       "      <td>36 months</td>\n",
       "      <td>5</td>\n",
       "      <td>5,566</td>\n",
       "      <td>5,000</td>\n",
       "      <td>0</td>\n",
       "      <td>156</td>\n",
       "      <td>0</td>\n",
       "    </tr>\n",
       "  </tbody>\n",
       "</table>\n",
       "</div>"
      ],
      "text/plain": [
       "   cust_id  year              state date_issued  date_final  emp_duration  \\\n",
       "0   180675  2007     Andhra Pradesh  01/12/2007     1032009            10   \n",
       "1    85781  2007          Rajasthan  01/06/2007     1072010             0   \n",
       "2    85675  2007            Manipur  01/06/2007     1062010            10   \n",
       "3    84918  2007     Andhra Pradesh  01/09/2007     1042008            10   \n",
       "4    84670  2007  Arunachal Pradesh  01/06/2007     1082009            10   \n",
       "\n",
       "   own_type income_type    app_type        loan_purpose interest_payments  \\\n",
       "0  MORTGAGE         Low  INDIVIDUAL  debt_consolidation               Low   \n",
       "1      RENT         Low  INDIVIDUAL               other               Low   \n",
       "2      RENT         Low  INDIVIDUAL               other              High   \n",
       "3  MORTGAGE         Low  INDIVIDUAL               other               Low   \n",
       "4  MORTGAGE        High  INDIVIDUAL               other               Low   \n",
       "\n",
       "  grade  annual_pay  loan_amount  interest_rate loan_duration  dti  \\\n",
       "0     C       73000        25000             11     36 months   22   \n",
       "1     C       40000         1400             11     36 months    9   \n",
       "2     E       25000         1000             14     36 months   16   \n",
       "3     A       65000         5000              7     36 months    0   \n",
       "4     A      300000         5000              8     36 months    5   \n",
       "\n",
       "   total_pymnt  total_rec_prncp  recoveries  installment  is_default  \n",
       "0       13,650            8,767       2,208          817           1  \n",
       "1        1,663            1,400           0           46           0  \n",
       "2        1,231            1,000           0           34           0  \n",
       "3        5,200            5,000           0          155           0  \n",
       "4        5,566            5,000           0          156           0  "
      ]
     },
     "execution_count": 2,
     "metadata": {},
     "output_type": "execute_result"
    }
   ],
   "source": [
    "data = pd.read_csv('https://storage.googleapis.com/industryanalytics/LoanDefaultData.csv')\n",
    "print('Data Shape:', data.shape)\n",
    "data.head()"
   ]
  },
  {
   "cell_type": "code",
   "execution_count": 3,
   "metadata": {},
   "outputs": [
    {
     "data": {
      "text/plain": [
       "0    819950\n",
       "1     67429\n",
       "Name: is_default, dtype: int64"
      ]
     },
     "execution_count": 3,
     "metadata": {},
     "output_type": "execute_result"
    }
   ],
   "source": [
    "data.is_default.value_counts()"
   ]
  },
  {
   "cell_type": "markdown",
   "metadata": {
    "colab_type": "text",
    "id": "WFygONk3d6rC"
   },
   "source": [
    "### **Data Description**\n",
    "\n",
    "In this section we will **get information about the data** and see some observations."
   ]
  },
  {
   "cell_type": "code",
   "execution_count": 13,
   "metadata": {
    "colab": {
     "base_uri": "https://localhost:8080/",
     "height": 317
    },
    "colab_type": "code",
    "id": "CAlGuFt0HfND",
    "outputId": "d9d21618-1671-4374-d763-c3d461f7a970"
   },
   "outputs": [
    {
     "data": {
      "text/html": [
       "<div>\n",
       "<style scoped>\n",
       "    .dataframe tbody tr th:only-of-type {\n",
       "        vertical-align: middle;\n",
       "    }\n",
       "\n",
       "    .dataframe tbody tr th {\n",
       "        vertical-align: top;\n",
       "    }\n",
       "\n",
       "    .dataframe thead th {\n",
       "        text-align: right;\n",
       "    }\n",
       "</style>\n",
       "<table border=\"1\" class=\"dataframe\">\n",
       "  <thead>\n",
       "    <tr style=\"text-align: right;\">\n",
       "      <th></th>\n",
       "      <th>cust_id</th>\n",
       "      <th>year</th>\n",
       "      <th>date_final</th>\n",
       "      <th>emp_duration</th>\n",
       "      <th>annual_pay</th>\n",
       "      <th>loan_amount</th>\n",
       "      <th>interest_rate</th>\n",
       "      <th>dti</th>\n",
       "      <th>total_pymnt</th>\n",
       "      <th>total_rec_prncp</th>\n",
       "      <th>recoveries</th>\n",
       "      <th>installment</th>\n",
       "      <th>is_default</th>\n",
       "    </tr>\n",
       "  </thead>\n",
       "  <tbody>\n",
       "    <tr>\n",
       "      <th>count</th>\n",
       "      <td>887,379</td>\n",
       "      <td>887,379</td>\n",
       "      <td>887,379</td>\n",
       "      <td>887,379</td>\n",
       "      <td>887,379</td>\n",
       "      <td>887,379</td>\n",
       "      <td>887,379</td>\n",
       "      <td>887,379</td>\n",
       "      <td>887,379</td>\n",
       "      <td>887,379</td>\n",
       "      <td>887,379</td>\n",
       "      <td>887,379</td>\n",
       "      <td>887,379</td>\n",
       "    </tr>\n",
       "    <tr>\n",
       "      <th>mean</th>\n",
       "      <td>32,465,133</td>\n",
       "      <td>2,014</td>\n",
       "      <td>1,047,089</td>\n",
       "      <td>6</td>\n",
       "      <td>75,028</td>\n",
       "      <td>14,755</td>\n",
       "      <td>13</td>\n",
       "      <td>18</td>\n",
       "      <td>7,559</td>\n",
       "      <td>5,758</td>\n",
       "      <td>46</td>\n",
       "      <td>437</td>\n",
       "      <td>0</td>\n",
       "    </tr>\n",
       "    <tr>\n",
       "      <th>std</th>\n",
       "      <td>22,827,342</td>\n",
       "      <td>1</td>\n",
       "      <td>45,551</td>\n",
       "      <td>4</td>\n",
       "      <td>64,698</td>\n",
       "      <td>8,435</td>\n",
       "      <td>4</td>\n",
       "      <td>17</td>\n",
       "      <td>7,871</td>\n",
       "      <td>6,625</td>\n",
       "      <td>410</td>\n",
       "      <td>244</td>\n",
       "      <td>0</td>\n",
       "    </tr>\n",
       "    <tr>\n",
       "      <th>min</th>\n",
       "      <td>54,734</td>\n",
       "      <td>2,007</td>\n",
       "      <td>1,012,008</td>\n",
       "      <td>0</td>\n",
       "      <td>0</td>\n",
       "      <td>500</td>\n",
       "      <td>5</td>\n",
       "      <td>0</td>\n",
       "      <td>0</td>\n",
       "      <td>0</td>\n",
       "      <td>0</td>\n",
       "      <td>16</td>\n",
       "      <td>0</td>\n",
       "    </tr>\n",
       "    <tr>\n",
       "      <th>25%</th>\n",
       "      <td>9,206,643</td>\n",
       "      <td>2,013</td>\n",
       "      <td>1,012,016</td>\n",
       "      <td>3</td>\n",
       "      <td>45,000</td>\n",
       "      <td>8,000</td>\n",
       "      <td>10</td>\n",
       "      <td>12</td>\n",
       "      <td>1,915</td>\n",
       "      <td>1,201</td>\n",
       "      <td>0</td>\n",
       "      <td>261</td>\n",
       "      <td>0</td>\n",
       "    </tr>\n",
       "    <tr>\n",
       "      <th>50%</th>\n",
       "      <td>34,433,267</td>\n",
       "      <td>2,014</td>\n",
       "      <td>1,012,016</td>\n",
       "      <td>6</td>\n",
       "      <td>65,000</td>\n",
       "      <td>13,000</td>\n",
       "      <td>13</td>\n",
       "      <td>18</td>\n",
       "      <td>4,895</td>\n",
       "      <td>3,215</td>\n",
       "      <td>0</td>\n",
       "      <td>383</td>\n",
       "      <td>0</td>\n",
       "    </tr>\n",
       "    <tr>\n",
       "      <th>75%</th>\n",
       "      <td>54,908,135</td>\n",
       "      <td>2,015</td>\n",
       "      <td>1,092,015</td>\n",
       "      <td>10</td>\n",
       "      <td>90,000</td>\n",
       "      <td>20,000</td>\n",
       "      <td>16</td>\n",
       "      <td>24</td>\n",
       "      <td>10,617</td>\n",
       "      <td>8,000</td>\n",
       "      <td>0</td>\n",
       "      <td>573</td>\n",
       "      <td>0</td>\n",
       "    </tr>\n",
       "    <tr>\n",
       "      <th>max</th>\n",
       "      <td>68,617,057</td>\n",
       "      <td>2,015</td>\n",
       "      <td>1,122,015</td>\n",
       "      <td>10</td>\n",
       "      <td>9,500,000</td>\n",
       "      <td>35,000</td>\n",
       "      <td>29</td>\n",
       "      <td>9,999</td>\n",
       "      <td>57,778</td>\n",
       "      <td>35,000</td>\n",
       "      <td>33,520</td>\n",
       "      <td>1,445</td>\n",
       "      <td>1</td>\n",
       "    </tr>\n",
       "  </tbody>\n",
       "</table>\n",
       "</div>"
      ],
      "text/plain": [
       "         cust_id    year  date_final  emp_duration  annual_pay  loan_amount  \\\n",
       "count    887,379 887,379     887,379       887,379     887,379      887,379   \n",
       "mean  32,465,133   2,014   1,047,089             6      75,028       14,755   \n",
       "std   22,827,342       1      45,551             4      64,698        8,435   \n",
       "min       54,734   2,007   1,012,008             0           0          500   \n",
       "25%    9,206,643   2,013   1,012,016             3      45,000        8,000   \n",
       "50%   34,433,267   2,014   1,012,016             6      65,000       13,000   \n",
       "75%   54,908,135   2,015   1,092,015            10      90,000       20,000   \n",
       "max   68,617,057   2,015   1,122,015            10   9,500,000       35,000   \n",
       "\n",
       "       interest_rate     dti  total_pymnt  total_rec_prncp  recoveries  \\\n",
       "count        887,379 887,379      887,379          887,379     887,379   \n",
       "mean              13      18        7,559            5,758          46   \n",
       "std                4      17        7,871            6,625         410   \n",
       "min                5       0            0                0           0   \n",
       "25%               10      12        1,915            1,201           0   \n",
       "50%               13      18        4,895            3,215           0   \n",
       "75%               16      24       10,617            8,000           0   \n",
       "max               29   9,999       57,778           35,000      33,520   \n",
       "\n",
       "       installment  is_default  \n",
       "count      887,379     887,379  \n",
       "mean           437           0  \n",
       "std            244           0  \n",
       "min             16           0  \n",
       "25%            261           0  \n",
       "50%            383           0  \n",
       "75%            573           0  \n",
       "max          1,445           1  "
      ]
     },
     "execution_count": 13,
     "metadata": {},
     "output_type": "execute_result"
    }
   ],
   "source": [
    "data.describe()"
   ]
  },
  {
   "cell_type": "markdown",
   "metadata": {
    "colab_type": "text",
    "id": "oSq-dWfU4-nv"
   },
   "source": [
    "**Observation:**\n",
    "\n",
    "- **50% of employees have 6 years** of **employment duration** which is **almost same for average employees** as indicated by the mean and 50% values.\n",
    "- The **average annual pay of the employee is $\\$$75027.59** and **$\\$$18.15 amount of consumer's monthly gross income goes towards paying debts**.\n",
    "- The **average loan amount required by the applicant is $\\$$14755.26**.\n",
    "- The **average interst rate on average loan amount is 13.24%**.\n",
    "- On **average $\\$$7558.82 amount of money has been paid** so far while **$\\$$409.69 amount has yet to be retrieved**.\n",
    "- **75% of applicants have paid their debt** as indicated by recoveries = 0."
   ]
  },
  {
   "cell_type": "markdown",
   "metadata": {
    "colab_type": "text",
    "id": "as623-odBrqL"
   },
   "source": [
    "### **Data Information:**\n",
    "\n",
    "In this section we will see the **information about features i.e. types, count and null?**."
   ]
  },
  {
   "cell_type": "code",
   "execution_count": 14,
   "metadata": {
    "colab": {
     "base_uri": "https://localhost:8080/",
     "height": 476
    },
    "colab_type": "code",
    "id": "81K5P0BCI3tx",
    "outputId": "8283c63f-52f6-44e9-ae9d-d3d9b6a2f255"
   },
   "outputs": [
    {
     "name": "stdout",
     "output_type": "stream",
     "text": [
      "<class 'pandas.core.frame.DataFrame'>\n",
      "RangeIndex: 887379 entries, 0 to 887378\n",
      "Data columns (total 22 columns):\n",
      "cust_id              887379 non-null int64\n",
      "year                 887379 non-null int64\n",
      "state                887379 non-null object\n",
      "date_issued          887379 non-null object\n",
      "date_final           887379 non-null int64\n",
      "emp_duration         887379 non-null float64\n",
      "own_type             887379 non-null object\n",
      "income_type          887379 non-null object\n",
      "app_type             887379 non-null object\n",
      "loan_purpose         887379 non-null object\n",
      "interest_payments    887379 non-null object\n",
      "grade                887379 non-null object\n",
      "annual_pay           887379 non-null int64\n",
      "loan_amount          887379 non-null int64\n",
      "interest_rate        887379 non-null float64\n",
      "loan_duration        887379 non-null object\n",
      "dti                  887379 non-null float64\n",
      "total_pymnt          887379 non-null float64\n",
      "total_rec_prncp      887379 non-null float64\n",
      "recoveries           887379 non-null float64\n",
      "installment          887379 non-null float64\n",
      "is_default           887379 non-null int64\n",
      "dtypes: float64(7), int64(6), object(9)\n",
      "memory usage: 148.9+ MB\n"
     ]
    }
   ],
   "source": [
    "data.info()"
   ]
  },
  {
   "cell_type": "markdown",
   "metadata": {
    "colab_type": "text",
    "id": "85qaRx_dU1Bk"
   },
   "source": [
    "**Observation:**\n",
    "\n",
    "- It turns out that **all features contains 887379 values**.\n",
    "- **date_issued** and **date_final** are categorized as incorrect types."
   ]
  },
  {
   "cell_type": "markdown",
   "metadata": {
    "colab_type": "text",
    "id": "aIYT6vXvGB9g"
   },
   "source": [
    "### **Numerical Data Distribution:**\n",
    "\n",
    "We shall plot all **numerical features to analyze the distribution** of their past."
   ]
  },
  {
   "cell_type": "code",
   "execution_count": 6,
   "metadata": {
    "colab": {
     "base_uri": "https://localhost:8080/",
     "height": 725
    },
    "colab_type": "code",
    "id": "QzIt-Hjj-shC",
    "outputId": "55174960-f852-4d63-b96b-ba2c9bc0ed3a"
   },
   "outputs": [
    {
     "data": {
      "text/plain": [
       "<matplotlib.axes._subplots.AxesSubplot at 0x104eaca10>"
      ]
     },
     "execution_count": 6,
     "metadata": {},
     "output_type": "execute_result"
    },
    {
     "data": {
      "text/plain": [
       "Text(0.5, 1.0, 'annual_pay')"
      ]
     },
     "execution_count": 6,
     "metadata": {},
     "output_type": "execute_result"
    },
    {
     "data": {
      "text/plain": [
       "[]"
      ]
     },
     "execution_count": 6,
     "metadata": {},
     "output_type": "execute_result"
    },
    {
     "data": {
      "text/plain": [
       "Text(0.5, 0, ' ')"
      ]
     },
     "execution_count": 6,
     "metadata": {},
     "output_type": "execute_result"
    },
    {
     "data": {
      "text/plain": [
       "[Text(0, 0, ' ')]"
      ]
     },
     "execution_count": 6,
     "metadata": {},
     "output_type": "execute_result"
    },
    {
     "data": {
      "text/plain": [
       "<matplotlib.axes._subplots.AxesSubplot at 0x115b397d0>"
      ]
     },
     "execution_count": 6,
     "metadata": {},
     "output_type": "execute_result"
    },
    {
     "data": {
      "text/plain": [
       "Text(0.5, 1.0, 'date_final')"
      ]
     },
     "execution_count": 6,
     "metadata": {},
     "output_type": "execute_result"
    },
    {
     "data": {
      "text/plain": [
       "[]"
      ]
     },
     "execution_count": 6,
     "metadata": {},
     "output_type": "execute_result"
    },
    {
     "data": {
      "text/plain": [
       "Text(0.5, 0, ' ')"
      ]
     },
     "execution_count": 6,
     "metadata": {},
     "output_type": "execute_result"
    },
    {
     "data": {
      "text/plain": [
       "[Text(0, 0, ' ')]"
      ]
     },
     "execution_count": 6,
     "metadata": {},
     "output_type": "execute_result"
    },
    {
     "data": {
      "text/plain": [
       "<matplotlib.axes._subplots.AxesSubplot at 0x115b69490>"
      ]
     },
     "execution_count": 6,
     "metadata": {},
     "output_type": "execute_result"
    },
    {
     "data": {
      "text/plain": [
       "Text(0.5, 1.0, 'dti')"
      ]
     },
     "execution_count": 6,
     "metadata": {},
     "output_type": "execute_result"
    },
    {
     "data": {
      "text/plain": [
       "[]"
      ]
     },
     "execution_count": 6,
     "metadata": {},
     "output_type": "execute_result"
    },
    {
     "data": {
      "text/plain": [
       "Text(0.5, 0, ' ')"
      ]
     },
     "execution_count": 6,
     "metadata": {},
     "output_type": "execute_result"
    },
    {
     "data": {
      "text/plain": [
       "[Text(0, 0, ' ')]"
      ]
     },
     "execution_count": 6,
     "metadata": {},
     "output_type": "execute_result"
    },
    {
     "data": {
      "text/plain": [
       "<matplotlib.axes._subplots.AxesSubplot at 0x145c63810>"
      ]
     },
     "execution_count": 6,
     "metadata": {},
     "output_type": "execute_result"
    },
    {
     "data": {
      "text/plain": [
       "Text(0.5, 1.0, 'emp_duration')"
      ]
     },
     "execution_count": 6,
     "metadata": {},
     "output_type": "execute_result"
    },
    {
     "data": {
      "text/plain": [
       "[]"
      ]
     },
     "execution_count": 6,
     "metadata": {},
     "output_type": "execute_result"
    },
    {
     "data": {
      "text/plain": [
       "Text(0.5, 0, ' ')"
      ]
     },
     "execution_count": 6,
     "metadata": {},
     "output_type": "execute_result"
    },
    {
     "data": {
      "text/plain": [
       "[Text(0, 0, ' ')]"
      ]
     },
     "execution_count": 6,
     "metadata": {},
     "output_type": "execute_result"
    },
    {
     "data": {
      "text/plain": [
       "<matplotlib.axes._subplots.AxesSubplot at 0x145ca6050>"
      ]
     },
     "execution_count": 6,
     "metadata": {},
     "output_type": "execute_result"
    },
    {
     "data": {
      "text/plain": [
       "Text(0.5, 1.0, 'installment')"
      ]
     },
     "execution_count": 6,
     "metadata": {},
     "output_type": "execute_result"
    },
    {
     "data": {
      "text/plain": [
       "[]"
      ]
     },
     "execution_count": 6,
     "metadata": {},
     "output_type": "execute_result"
    },
    {
     "data": {
      "text/plain": [
       "Text(0.5, 0, ' ')"
      ]
     },
     "execution_count": 6,
     "metadata": {},
     "output_type": "execute_result"
    },
    {
     "data": {
      "text/plain": [
       "[Text(0, 0, ' ')]"
      ]
     },
     "execution_count": 6,
     "metadata": {},
     "output_type": "execute_result"
    },
    {
     "data": {
      "text/plain": [
       "<matplotlib.axes._subplots.AxesSubplot at 0x145cd7850>"
      ]
     },
     "execution_count": 6,
     "metadata": {},
     "output_type": "execute_result"
    },
    {
     "data": {
      "text/plain": [
       "Text(0.5, 1.0, 'interest_rate')"
      ]
     },
     "execution_count": 6,
     "metadata": {},
     "output_type": "execute_result"
    },
    {
     "data": {
      "text/plain": [
       "[]"
      ]
     },
     "execution_count": 6,
     "metadata": {},
     "output_type": "execute_result"
    },
    {
     "data": {
      "text/plain": [
       "Text(0.5, 0, ' ')"
      ]
     },
     "execution_count": 6,
     "metadata": {},
     "output_type": "execute_result"
    },
    {
     "data": {
      "text/plain": [
       "[Text(0, 0, ' ')]"
      ]
     },
     "execution_count": 6,
     "metadata": {},
     "output_type": "execute_result"
    },
    {
     "data": {
      "text/plain": [
       "<matplotlib.axes._subplots.AxesSubplot at 0x145d18190>"
      ]
     },
     "execution_count": 6,
     "metadata": {},
     "output_type": "execute_result"
    },
    {
     "data": {
      "text/plain": [
       "Text(0.5, 1.0, 'is_default')"
      ]
     },
     "execution_count": 6,
     "metadata": {},
     "output_type": "execute_result"
    },
    {
     "data": {
      "text/plain": [
       "[]"
      ]
     },
     "execution_count": 6,
     "metadata": {},
     "output_type": "execute_result"
    },
    {
     "data": {
      "text/plain": [
       "Text(0.5, 0, ' ')"
      ]
     },
     "execution_count": 6,
     "metadata": {},
     "output_type": "execute_result"
    },
    {
     "data": {
      "text/plain": [
       "[Text(0, 0, ' ')]"
      ]
     },
     "execution_count": 6,
     "metadata": {},
     "output_type": "execute_result"
    },
    {
     "data": {
      "text/plain": [
       "<matplotlib.axes._subplots.AxesSubplot at 0x145d4c990>"
      ]
     },
     "execution_count": 6,
     "metadata": {},
     "output_type": "execute_result"
    },
    {
     "data": {
      "text/plain": [
       "Text(0.5, 1.0, 'loan_amount')"
      ]
     },
     "execution_count": 6,
     "metadata": {},
     "output_type": "execute_result"
    },
    {
     "data": {
      "text/plain": [
       "[]"
      ]
     },
     "execution_count": 6,
     "metadata": {},
     "output_type": "execute_result"
    },
    {
     "data": {
      "text/plain": [
       "Text(0.5, 0, ' ')"
      ]
     },
     "execution_count": 6,
     "metadata": {},
     "output_type": "execute_result"
    },
    {
     "data": {
      "text/plain": [
       "[Text(0, 0, ' ')]"
      ]
     },
     "execution_count": 6,
     "metadata": {},
     "output_type": "execute_result"
    },
    {
     "data": {
      "text/plain": [
       "<matplotlib.axes._subplots.AxesSubplot at 0x145d83590>"
      ]
     },
     "execution_count": 6,
     "metadata": {},
     "output_type": "execute_result"
    },
    {
     "data": {
      "text/plain": [
       "Text(0.5, 1.0, 'recoveries')"
      ]
     },
     "execution_count": 6,
     "metadata": {},
     "output_type": "execute_result"
    },
    {
     "data": {
      "text/plain": [
       "[]"
      ]
     },
     "execution_count": 6,
     "metadata": {},
     "output_type": "execute_result"
    },
    {
     "data": {
      "text/plain": [
       "Text(0.5, 0, ' ')"
      ]
     },
     "execution_count": 6,
     "metadata": {},
     "output_type": "execute_result"
    },
    {
     "data": {
      "text/plain": [
       "[Text(0, 0, ' ')]"
      ]
     },
     "execution_count": 6,
     "metadata": {},
     "output_type": "execute_result"
    },
    {
     "data": {
      "text/plain": [
       "<matplotlib.axes._subplots.AxesSubplot at 0x145db5d90>"
      ]
     },
     "execution_count": 6,
     "metadata": {},
     "output_type": "execute_result"
    },
    {
     "data": {
      "text/plain": [
       "Text(0.5, 1.0, 'total_pymnt')"
      ]
     },
     "execution_count": 6,
     "metadata": {},
     "output_type": "execute_result"
    },
    {
     "data": {
      "text/plain": [
       "[]"
      ]
     },
     "execution_count": 6,
     "metadata": {},
     "output_type": "execute_result"
    },
    {
     "data": {
      "text/plain": [
       "Text(0.5, 0, ' ')"
      ]
     },
     "execution_count": 6,
     "metadata": {},
     "output_type": "execute_result"
    },
    {
     "data": {
      "text/plain": [
       "[Text(0, 0, ' ')]"
      ]
     },
     "execution_count": 6,
     "metadata": {},
     "output_type": "execute_result"
    },
    {
     "data": {
      "text/plain": [
       "<matplotlib.axes._subplots.AxesSubplot at 0x145dff250>"
      ]
     },
     "execution_count": 6,
     "metadata": {},
     "output_type": "execute_result"
    },
    {
     "data": {
      "text/plain": [
       "Text(0.5, 1.0, 'total_rec_prncp')"
      ]
     },
     "execution_count": 6,
     "metadata": {},
     "output_type": "execute_result"
    },
    {
     "data": {
      "text/plain": [
       "[]"
      ]
     },
     "execution_count": 6,
     "metadata": {},
     "output_type": "execute_result"
    },
    {
     "data": {
      "text/plain": [
       "Text(0.5, 0, ' ')"
      ]
     },
     "execution_count": 6,
     "metadata": {},
     "output_type": "execute_result"
    },
    {
     "data": {
      "text/plain": [
       "[Text(0, 0, ' ')]"
      ]
     },
     "execution_count": 6,
     "metadata": {},
     "output_type": "execute_result"
    },
    {
     "data": {
      "text/plain": [
       "<matplotlib.axes._subplots.AxesSubplot at 0x145e32a50>"
      ]
     },
     "execution_count": 6,
     "metadata": {},
     "output_type": "execute_result"
    },
    {
     "data": {
      "text/plain": [
       "Text(0.5, 1.0, 'year')"
      ]
     },
     "execution_count": 6,
     "metadata": {},
     "output_type": "execute_result"
    },
    {
     "data": {
      "text/plain": [
       "[]"
      ]
     },
     "execution_count": 6,
     "metadata": {},
     "output_type": "execute_result"
    },
    {
     "data": {
      "text/plain": [
       "Text(0.5, 0, ' ')"
      ]
     },
     "execution_count": 6,
     "metadata": {},
     "output_type": "execute_result"
    },
    {
     "data": {
      "text/plain": [
       "[Text(0, 0, ' ')]"
      ]
     },
     "execution_count": 6,
     "metadata": {},
     "output_type": "execute_result"
    },
    {
     "data": {
      "image/png": "[encoded data removed]",
      "text/plain": [
       "<Figure size 864x720 with 12 Axes>"
      ]
     },
     "metadata": {},
     "output_type": "display_data"
    }
   ],
   "source": [
    "fig, axes = plt.subplots(nrows = 3, ncols = 4, sharex = False, figsize=(12, 10))\n",
    "colors = []\n",
    "for i in range(12):\n",
    "  colors.append('#%06X' % randint(0, 0xFFFFFF))\n",
    "columns = ['annual_pay', 'date_final', 'dti', 'emp_duration', 'installment', 'interest_rate', 'is_default',\n",
    "           'loan_amount', 'recoveries', 'total_pymnt', 'total_rec_prncp', 'year']\n",
    "for ax, col, color in zip(axes.flat, columns, colors):\n",
    "  sns.distplot(a = data[col], bins = 50, ax = ax, color = color)\n",
    "  ax.set_title(col)\n",
    "  plt.setp(axes, yticks=[])\n",
    "  ax.set_xlabel(' ')\n",
    "  ax.set_xticklabels(labels = ' ')\n",
    "  ax.grid(False)\n",
    "plt.tight_layout()\n",
    "plt.show()"
   ]
  },
  {
   "cell_type": "markdown",
   "metadata": {
    "colab_type": "text",
    "id": "tdutGuTtaTgD"
   },
   "source": [
    "**Observation:**\n",
    "\n",
    "- Postive Skewed Features:\n",
    " - **annual_pay, dti, installment, loan_amount, recoveries, totoal_pymnt**, **total_rec_prncp**.\n",
    "- Negative Skewed Features:\n",
    " - **year**\n",
    "- ~ Normally Distributed Features:\n",
    " - **emp_duration, interest_rate**."
   ]
  },
  {
   "cell_type": "markdown",
   "metadata": {
    "colab_type": "text",
    "id": "23Z4-nyeGQeP"
   },
   "source": [
    "### **Categorical Data Distribution:**\n",
    "\n",
    "We shall plot all **categorical features to analyze the distribution** of the past data.\n",
    "- **Firstly we will extract all the categorical features**.\n",
    "- We **remove date_issued** because we won't be using time series to predict the classes and eventually will get removed at later stage."
   ]
  },
  {
   "cell_type": "code",
   "execution_count": 7,
   "metadata": {
    "colab": {
     "base_uri": "https://localhost:8080/",
     "height": 34
    },
    "colab_type": "code",
    "id": "wqogmGyWGPZf",
    "outputId": "769a2919-5782-492e-a145-5240dc46f212"
   },
   "outputs": [
    {
     "name": "stdout",
     "output_type": "stream",
     "text": [
      "Categorical Features ['state', 'own_type', 'income_type', 'app_type', 'loan_purpose', 'interest_payments', 'grade', 'loan_duration']\n"
     ]
    }
   ],
   "source": [
    "# Extracting all the categorical features\n",
    "cat_list = []\n",
    "for i in data.columns.values:\n",
    "  if (data[i].dtype == 'object'):\n",
    "    cat_list.append(i)\n",
    "# Excluding date_issued feature    \n",
    "cat_list.remove('date_issued')\n",
    "print(\"Categorical Features\", cat_list)"
   ]
  },
  {
   "cell_type": "code",
   "execution_count": 8,
   "metadata": {
    "colab": {
     "base_uri": "https://localhost:8080/",
     "height": 729
    },
    "colab_type": "code",
    "id": "j8zfHrrBLeR1",
    "outputId": "c38a0028-d4b5-4faf-b241-2c11ef196cf1"
   },
   "outputs": [
    {
     "data": {
      "text/plain": [
       "<BarContainer object of 28 artists>"
      ]
     },
     "execution_count": 8,
     "metadata": {},
     "output_type": "execute_result"
    },
    {
     "data": {
      "text/plain": [
       "Text(0.5, 1.0, 'state')"
      ]
     },
     "execution_count": 8,
     "metadata": {},
     "output_type": "execute_result"
    },
    {
     "data": {
      "text/plain": [
       "Text(0.5, 0, ' ')"
      ]
     },
     "execution_count": 8,
     "metadata": {},
     "output_type": "execute_result"
    },
    {
     "data": {
      "text/plain": [
       "[Text(0, 0, ' ')]"
      ]
     },
     "execution_count": 8,
     "metadata": {},
     "output_type": "execute_result"
    },
    {
     "data": {
      "text/plain": [
       "<BarContainer object of 6 artists>"
      ]
     },
     "execution_count": 8,
     "metadata": {},
     "output_type": "execute_result"
    },
    {
     "data": {
      "text/plain": [
       "Text(0.5, 1.0, 'own_type')"
      ]
     },
     "execution_count": 8,
     "metadata": {},
     "output_type": "execute_result"
    },
    {
     "data": {
      "text/plain": [
       "Text(0.5, 0, ' ')"
      ]
     },
     "execution_count": 8,
     "metadata": {},
     "output_type": "execute_result"
    },
    {
     "data": {
      "text/plain": [
       "[Text(0, 0, ' ')]"
      ]
     },
     "execution_count": 8,
     "metadata": {},
     "output_type": "execute_result"
    },
    {
     "data": {
      "text/plain": [
       "<BarContainer object of 3 artists>"
      ]
     },
     "execution_count": 8,
     "metadata": {},
     "output_type": "execute_result"
    },
    {
     "data": {
      "text/plain": [
       "Text(0.5, 1.0, 'income_type')"
      ]
     },
     "execution_count": 8,
     "metadata": {},
     "output_type": "execute_result"
    },
    {
     "data": {
      "text/plain": [
       "Text(0.5, 0, ' ')"
      ]
     },
     "execution_count": 8,
     "metadata": {},
     "output_type": "execute_result"
    },
    {
     "data": {
      "text/plain": [
       "[Text(0, 0, ' ')]"
      ]
     },
     "execution_count": 8,
     "metadata": {},
     "output_type": "execute_result"
    },
    {
     "data": {
      "text/plain": [
       "<BarContainer object of 2 artists>"
      ]
     },
     "execution_count": 8,
     "metadata": {},
     "output_type": "execute_result"
    },
    {
     "data": {
      "text/plain": [
       "Text(0.5, 1.0, 'app_type')"
      ]
     },
     "execution_count": 8,
     "metadata": {},
     "output_type": "execute_result"
    },
    {
     "data": {
      "text/plain": [
       "Text(0.5, 0, ' ')"
      ]
     },
     "execution_count": 8,
     "metadata": {},
     "output_type": "execute_result"
    },
    {
     "data": {
      "text/plain": [
       "[Text(0, 0, ' ')]"
      ]
     },
     "execution_count": 8,
     "metadata": {},
     "output_type": "execute_result"
    },
    {
     "data": {
      "text/plain": [
       "<BarContainer object of 14 artists>"
      ]
     },
     "execution_count": 8,
     "metadata": {},
     "output_type": "execute_result"
    },
    {
     "data": {
      "text/plain": [
       "Text(0.5, 1.0, 'loan_purpose')"
      ]
     },
     "execution_count": 8,
     "metadata": {},
     "output_type": "execute_result"
    },
    {
     "data": {
      "text/plain": [
       "Text(0.5, 0, ' ')"
      ]
     },
     "execution_count": 8,
     "metadata": {},
     "output_type": "execute_result"
    },
    {
     "data": {
      "text/plain": [
       "[Text(0, 0, ' ')]"
      ]
     },
     "execution_count": 8,
     "metadata": {},
     "output_type": "execute_result"
    },
    {
     "data": {
      "text/plain": [
       "<BarContainer object of 2 artists>"
      ]
     },
     "execution_count": 8,
     "metadata": {},
     "output_type": "execute_result"
    },
    {
     "data": {
      "text/plain": [
       "Text(0.5, 1.0, 'interest_payments')"
      ]
     },
     "execution_count": 8,
     "metadata": {},
     "output_type": "execute_result"
    },
    {
     "data": {
      "text/plain": [
       "Text(0.5, 0, ' ')"
      ]
     },
     "execution_count": 8,
     "metadata": {},
     "output_type": "execute_result"
    },
    {
     "data": {
      "text/plain": [
       "[Text(0, 0, ' ')]"
      ]
     },
     "execution_count": 8,
     "metadata": {},
     "output_type": "execute_result"
    },
    {
     "data": {
      "text/plain": [
       "<BarContainer object of 7 artists>"
      ]
     },
     "execution_count": 8,
     "metadata": {},
     "output_type": "execute_result"
    },
    {
     "data": {
      "text/plain": [
       "Text(0.5, 1.0, 'grade')"
      ]
     },
     "execution_count": 8,
     "metadata": {},
     "output_type": "execute_result"
    },
    {
     "data": {
      "text/plain": [
       "Text(0.5, 0, ' ')"
      ]
     },
     "execution_count": 8,
     "metadata": {},
     "output_type": "execute_result"
    },
    {
     "data": {
      "text/plain": [
       "[Text(0, 0, ' ')]"
      ]
     },
     "execution_count": 8,
     "metadata": {},
     "output_type": "execute_result"
    },
    {
     "data": {
      "text/plain": [
       "<BarContainer object of 2 artists>"
      ]
     },
     "execution_count": 8,
     "metadata": {},
     "output_type": "execute_result"
    },
    {
     "data": {
      "text/plain": [
       "Text(0.5, 1.0, 'loan_duration')"
      ]
     },
     "execution_count": 8,
     "metadata": {},
     "output_type": "execute_result"
    },
    {
     "data": {
      "text/plain": [
       "Text(0.5, 0, ' ')"
      ]
     },
     "execution_count": 8,
     "metadata": {},
     "output_type": "execute_result"
    },
    {
     "data": {
      "text/plain": [
       "[Text(0, 0, ' ')]"
      ]
     },
     "execution_count": 8,
     "metadata": {},
     "output_type": "execute_result"
    },
    {
     "data": {
      "image/png": "[encoded data removed]",
      "text/plain": [
       "<Figure size 864x864 with 8 Axes>"
      ]
     },
     "metadata": {},
     "output_type": "display_data"
    }
   ],
   "source": [
    "fig, axes = plt.subplots(nrows = 4, ncols = 2, sharex = False, figsize=(12, 12))\n",
    "colors = []\n",
    "for i in range(8):\n",
    "  colors.append('#%06X' % randint(0, 0xFFFFFF))\n",
    "for ax, col, color in zip(axes.flat, cat_list, colors):\n",
    "  ax.bar(x = data[col].value_counts().index, height = data[col].value_counts(), color = color)\n",
    "  ax.set_title(col)\n",
    "  ax.set_xlabel(' ')\n",
    "  ax.set_xticklabels(labels = ' ')\n",
    "  ax.grid(True)"
   ]
  },
  {
   "cell_type": "markdown",
   "metadata": {
    "colab_type": "text",
    "id": "48dXEq5uA0ZU"
   },
   "source": [
    "**Observation:**\n",
    "\n",
    "- Normal Distributed\n",
    " - **state, interest_payments, app_type**\n",
    "- Postively Skewed Features\n",
    " - **own_type, income_type, loan_purpose, grade, loan_duration**\n",
    "- Negatively Skewed Features\n",
    " - NA"
   ]
  },
  {
   "cell_type": "markdown",
   "metadata": {
    "colab_type": "text",
    "id": "Qaq9zKFuaTs6"
   },
   "source": [
    "### **Pre-Profiling Report**"
   ]
  },
  {
   "cell_type": "code",
   "execution_count": 10,
   "metadata": {
    "colab": {
     "base_uri": "https://localhost:8080/",
     "height": 34
    },
    "colab_type": "code",
    "id": "nR4v78gDaTBZ",
    "outputId": "e1240b82-3650-4ea1-a630-df56375a54c4"
   },
   "outputs": [],
   "source": [
    "# profile = ProfileReport(data)\n",
    "# profile.to_file(outputfile = 'Pre Profiling Report.html')\n",
    "# print('Accomplished!')"
   ]
  },
  {
   "cell_type": "markdown",
   "metadata": {
    "colab_type": "text",
    "id": "i-ygAi6JBrZB"
   },
   "source": [
    "**Observation:**\n",
    "\n",
    "- Profiling identified **10 numeric, 9 categorical, 1 boolean and 2 rejected features**.\n",
    "- **date_issued** is found to be **cardinal with 103 distinct values**.\n",
    "- **annual_pay, dti** is found to be **highy skewed**.\n",
    "- **total_pymnt** is found to **have 2% of zeros** present **while recoveries having 97.2% of zeros**.\n",
    "- **total_rec_prncp** is **highly correlated** with **total_pymnt** while **installment** is **highly correlated** with **loan_amount**.\n",
    "- **cust_id** is **highly correlated** with year feature."
   ]
  },
  {
   "cell_type": "markdown",
   "metadata": {
    "colab_type": "text",
    "id": "3bO66Lu2JfCI"
   },
   "source": [
    "<a id = Section5></a>\n",
    "# 5. Data Pre-Processing"
   ]
  },
  {
   "cell_type": "markdown",
   "metadata": {
    "colab_type": "text",
    "id": "6IGHIl7p8FUQ"
   },
   "source": [
    "### **Identification & Handling of Inconsistent Data Types**\n",
    "\n",
    "From the data description it can be seen that **date_issued** and **date_final** and year are **having inconsistent data types and values.**\n",
    "- Below we shall **create a frame of each type** of feature and **show you** how our **data** looks **before and after making changes**.\n",
    "- After that we **shall re-run the dataframe** to identify the correct types of features."
   ]
  },
  {
   "cell_type": "markdown",
   "metadata": {
    "colab_type": "text",
    "id": "WzLmA7U0m0Bx"
   },
   "source": [
    "**Before changes data types and respective incorrect data**"
   ]
  },
  {
   "cell_type": "code",
   "execution_count": null,
   "metadata": {
    "colab": {
     "base_uri": "https://localhost:8080/",
     "height": 100
    },
    "colab_type": "code",
    "id": "jIKquJdZOBGV",
    "outputId": "43ec36c3-c59c-4d29-aca8-46883769d679"
   },
   "outputs": [],
   "source": [
    "# Dataframe before performing changes\n",
    "type_frame = pd.DataFrame(data = data.dtypes, columns = ['Type'])\n",
    "type_frame.transpose()"
   ]
  },
  {
   "cell_type": "code",
   "execution_count": null,
   "metadata": {
    "colab": {
     "base_uri": "https://localhost:8080/",
     "height": 204
    },
    "colab_type": "code",
    "id": "ygkSMmM_8Eve",
    "outputId": "fcfc8af4-2779-4e3a-c159-f7cafcb6cd86"
   },
   "outputs": [],
   "source": [
    "# Data before performing changes\n",
    "data[['date_issued', 'date_final', 'year']].head()"
   ]
  },
  {
   "cell_type": "markdown",
   "metadata": {
    "colab_type": "text",
    "id": "hdOgPLaImnPo"
   },
   "source": [
    "**Performing Correction**"
   ]
  },
  {
   "cell_type": "code",
   "execution_count": null,
   "metadata": {
    "colab": {},
    "colab_type": "code",
    "id": "kue_2R609eeg"
   },
   "outputs": [],
   "source": [
    "# Correcting types of features\n",
    "data['date_issued'] = pd.to_datetime(data['date_issued'])\n",
    "data['date_final'] = pd.to_datetime(data['date_final'], format = '%d%m%Y')\n",
    "data['year'] = data['year'].astype('object')"
   ]
  },
  {
   "cell_type": "markdown",
   "metadata": {
    "colab_type": "text",
    "id": "eC152c-cnCvi"
   },
   "source": [
    "**After changes data types and respective incorrect data**"
   ]
  },
  {
   "cell_type": "code",
   "execution_count": null,
   "metadata": {
    "colab": {
     "base_uri": "https://localhost:8080/",
     "height": 100
    },
    "colab_type": "code",
    "id": "TP7HfgkOQBXq",
    "outputId": "fa72f582-df8c-4572-fd22-f78ab64e0df4"
   },
   "outputs": [],
   "source": [
    "# Dataframe after performing changes\n",
    "type_frame = pd.DataFrame(data = data.dtypes, columns = ['Type'])\n",
    "type_frame.transpose()"
   ]
  },
  {
   "cell_type": "code",
   "execution_count": null,
   "metadata": {
    "colab": {
     "base_uri": "https://localhost:8080/",
     "height": 204
    },
    "colab_type": "code",
    "id": "-MALDxd9GYBt",
    "outputId": "cb02527e-b3ab-4020-920a-58cb39a90578"
   },
   "outputs": [],
   "source": [
    "# Data after performing changes\n",
    "data[['date_issued', 'date_final', 'year']].head()"
   ]
  },
  {
   "cell_type": "markdown",
   "metadata": {
    "colab_type": "text",
    "id": "nKYgF6o8K0cK"
   },
   "source": [
    "### **Identification & Handling of Missing Data**"
   ]
  },
  {
   "cell_type": "code",
   "execution_count": null,
   "metadata": {
    "colab": {
     "base_uri": "https://localhost:8080/",
     "height": 117
    },
    "colab_type": "code",
    "id": "j8WX7F8CQdnL",
    "outputId": "2d3e9d96-a13f-453c-c850-2fec17f130b4"
   },
   "outputs": [],
   "source": [
    "print('Data Shape:', data.shape)\n",
    "null_frame = pd.DataFrame(data = data.isnull().sum(), columns = ['Frequency'])\n",
    "null_frame.transpose()"
   ]
  },
  {
   "cell_type": "markdown",
   "metadata": {
    "colab_type": "text",
    "id": "rzdMOzPoQsiq"
   },
   "source": [
    "**Observation:**\n",
    "\n",
    "- It turns out that **there aren't any null values present** in our data."
   ]
  },
  {
   "cell_type": "markdown",
   "metadata": {
    "colab_type": "text",
    "id": "Zfc8hkIsgHoL"
   },
   "source": [
    "**Now we will see if there are any zeros presents in our data or not.**"
   ]
  },
  {
   "cell_type": "code",
   "execution_count": null,
   "metadata": {
    "colab": {
     "base_uri": "https://localhost:8080/",
     "height": 117
    },
    "colab_type": "code",
    "id": "bOZmNSf9T3Kt",
    "outputId": "6b45e485-cedf-422f-ba14-92000d67a989"
   },
   "outputs": [],
   "source": [
    "print('Data Shape:', data.shape)\n",
    "zero_frame = pd.DataFrame(data[data == 0].count(), columns = ['Frequency'])\n",
    "zero_frame.transpose()"
   ]
  },
  {
   "cell_type": "markdown",
   "metadata": {
    "colab_type": "text",
    "id": "inAyi-XrRIEK"
   },
   "source": [
    "**Observation:**\n",
    "\n",
    "- **annual_pay of two customers are found to be absent** (We can drop it).\n",
    "- **dti** feature **contains 451 of zeros** (**Can replace with median**).\n",
    "- **total_pymnt** feature **contains 17759** records with **zeros** (**Can't drop or replace**).\n",
    "- **total_rec_prncp contains 18145** records with **zeros** (**Can't drop or replace**).\n",
    "- **recoveries contains 862702** of records with **zeros** not identifying missing data (**Can't drop or replace**).\n",
    "- **is_default** is a categorical features contatining only 0 and 1 (**Can't drop or replace**)."
   ]
  },
  {
   "cell_type": "markdown",
   "metadata": {
    "colab_type": "text",
    "id": "2dxIMQ6-nNUp"
   },
   "source": [
    "**Dropping Records**"
   ]
  },
  {
   "cell_type": "code",
   "execution_count": null,
   "metadata": {
    "colab": {},
    "colab_type": "code",
    "id": "LBc249gqsFwQ"
   },
   "outputs": [],
   "source": [
    "# Dropping two records containing annual_pay = 0\n",
    "data = data[data['annual_pay'] != 0]"
   ]
  },
  {
   "cell_type": "markdown",
   "metadata": {
    "colab_type": "text",
    "id": "G4emV_RqnSII"
   },
   "source": [
    "**Replacing data with Median**"
   ]
  },
  {
   "cell_type": "code",
   "execution_count": null,
   "metadata": {
    "colab": {
     "base_uri": "https://localhost:8080/",
     "height": 34
    },
    "colab_type": "code",
    "id": "qZTixUEzgWT7",
    "outputId": "b5bbda7b-0442-48b9-92f0-a90e783c4af6"
   },
   "outputs": [],
   "source": [
    "# Replacing dti feature containing NaN values with median values\n",
    "data['dti'] = data['dti'].replace(0, np.median(data['dti']))\n",
    "print('Accomplished!')"
   ]
  },
  {
   "cell_type": "code",
   "execution_count": null,
   "metadata": {
    "colab": {
     "base_uri": "https://localhost:8080/",
     "height": 117
    },
    "colab_type": "code",
    "id": "8P-gUzUJslpU",
    "outputId": "4cd50ca6-b86a-454b-f7cb-005c55bbe5cc"
   },
   "outputs": [],
   "source": [
    "# Verifying Zeros Frequency\n",
    "print('Shape:', data.shape)\n",
    "zero_frame = pd.DataFrame(data[data == 0].count(), columns = ['Frequency'])\n",
    "zero_frame.transpose()"
   ]
  },
  {
   "cell_type": "markdown",
   "metadata": {
    "colab_type": "text",
    "id": "yFPTJbtinf0a"
   },
   "source": [
    "**Observation:**\n",
    "\n",
    "- **total_pymnt** feature **contains 17759** records with **zeros** (**Can't drop or replace**).\n",
    "- **total_rec_prncp contains 18145** records with **zeros** (**Can't drop or replace**).\n",
    "- **recoveries contains 862702** of records with **zeros** not identifying missing data (**Can't drop or replace**).\n",
    "- **is_default** is a categorical features contatining only 0 and 1 (**Can't drop or replace**)."
   ]
  },
  {
   "cell_type": "markdown",
   "metadata": {
    "colab_type": "text",
    "id": "oYC0kxLBPsRt"
   },
   "source": [
    "### **Identification & Handling of Duplicate Rows**\n",
    "\n",
    "- Now we will **identify the duplicacity in records and if present**, **we will drop it**. \n",
    "- We are **making a copy of data** on which we will work on **so that our original data is intact from harm** and **after identifying** we **can perfrom the same operation on our original data**. \n",
    "- We'll **drop cust_id** to identify whether there are **duplicate rows** present in our data or not."
   ]
  },
  {
   "cell_type": "code",
   "execution_count": null,
   "metadata": {
    "colab": {},
    "colab_type": "code",
    "id": "YAyGGycUVPBJ"
   },
   "outputs": [],
   "source": [
    "data2 = data.copy()"
   ]
  },
  {
   "cell_type": "code",
   "execution_count": null,
   "metadata": {
    "colab": {
     "base_uri": "https://localhost:8080/",
     "height": 34
    },
    "colab_type": "code",
    "id": "ZnWhfXX4HIcE",
    "outputId": "9e09b189-5a6a-452b-a596-3c91afbc56b0"
   },
   "outputs": [],
   "source": [
    "# Dropping cust_id as it is unique\n",
    "data2 = data2.drop('cust_id', axis = 1)\n",
    "print('Drop Success!')"
   ]
  },
  {
   "cell_type": "code",
   "execution_count": null,
   "metadata": {
    "colab": {
     "base_uri": "https://localhost:8080/",
     "height": 34
    },
    "colab_type": "code",
    "id": "SQfcVCqnLM0p",
    "outputId": "5cf54898-d5f5-4d35-a973-f5140b4d3f52"
   },
   "outputs": [],
   "source": [
    "data2.duplicated().any()"
   ]
  },
  {
   "cell_type": "markdown",
   "metadata": {
    "colab_type": "text",
    "id": "SsaBUT14VmAP"
   },
   "source": [
    "**Observation:**\n",
    "\n",
    "- It turns out that **there aren't any duplicate rows** present in our data."
   ]
  },
  {
   "cell_type": "markdown",
   "metadata": {
    "colab_type": "text",
    "id": "6COSJuuHQN1-"
   },
   "source": [
    "### **Identification & Handling of Duplicate Columns**"
   ]
  },
  {
   "cell_type": "markdown",
   "metadata": {
    "colab_type": "text",
    "id": "2BAZwIgXg42Q"
   },
   "source": [
    "Below we have **made a custom function to identify duplicate columns containing duplicate values**."
   ]
  },
  {
   "cell_type": "code",
   "execution_count": null,
   "metadata": {
    "colab": {},
    "colab_type": "code",
    "id": "xRuwWpA6QiJd"
   },
   "outputs": [],
   "source": [
    "def duplicateCols(dataframe):\n",
    "  '''Returns a list of labels of duplicate valued columns'''\n",
    "  names = set()\n",
    "  for i in range(dataframe.shape[1]):\n",
    "    col1 = dataframe.iloc[:, i]\n",
    "    for j in range(i+1, dataframe.shape[1]):\n",
    "      col2 = dataframe.iloc[:, j]\n",
    "      if col1.equals(col2):\n",
    "        names.add(dataframe.columns.values[j])\n",
    "\n",
    "  if (len(names) == 0):\n",
    "    return None\n",
    "  else:\n",
    "    return list(names)"
   ]
  },
  {
   "cell_type": "code",
   "execution_count": null,
   "metadata": {
    "colab": {
     "base_uri": "https://localhost:8080/",
     "height": 34
    },
    "colab_type": "code",
    "id": "gedzdqPGWke7",
    "outputId": "bcc08953-beaa-47cb-867e-bdf5a9538eb6"
   },
   "outputs": [],
   "source": [
    "# Making a call\n",
    "is_duplicate_cols = duplicateCols(data2)\n",
    "print('Contains Duplicate Columns?', is_duplicate_cols)"
   ]
  },
  {
   "cell_type": "markdown",
   "metadata": {
    "colab_type": "text",
    "id": "abWEL9b_G_AY"
   },
   "source": [
    "**Observation:**\n",
    "\n",
    "- From the above, it can be seen that **there are no duplicate columns present** in our data."
   ]
  },
  {
   "cell_type": "markdown",
   "metadata": {
    "colab_type": "text",
    "id": "wtpYXhBk0ky-"
   },
   "source": [
    "### **Post Profiling Report**"
   ]
  },
  {
   "cell_type": "code",
   "execution_count": null,
   "metadata": {
    "colab": {
     "base_uri": "https://localhost:8080/",
     "height": 34
    },
    "colab_type": "code",
    "id": "c2I1SGm1UfMo",
    "outputId": "f1145da8-60ae-4c66-9ac4-836cbc9e39ef"
   },
   "outputs": [],
   "source": [
    "# profile = ProfileReport(data)\n",
    "# profile.to_file(outputfile = 'Post Profiling Report.html')\n",
    "# print('Accomplished!')"
   ]
  },
  {
   "cell_type": "markdown",
   "metadata": {
    "colab_type": "text",
    "id": "pxcbfkYc1iQ1"
   },
   "source": [
    "**Observation:**\n",
    "\n",
    " - There are: **Numeric = 9**, **Categorical = 8**, **Boolean = 1**, **Date = 2** features.\n",
    " - **annual_pay**, **dti** are **highly skewed**.\n",
    " - **total_pymnt have 2% of zeros signifying 2% of people haven't paid any money**.\n",
    " - **total_rec_prncp is highly correlated with total_pymnt**,\n",
    " installment is highly correlated with loan_amount & should be ignored for analysis.\n",
    " - **recoveries has 97.2% zeros signifying around 97% of people have paid their debt.**\n"
   ]
  },
  {
   "cell_type": "markdown",
   "metadata": {
    "colab_type": "text",
    "id": "FvTixfr3KKkY"
   },
   "source": [
    "<a id = Section6></a>\n",
    "# 6. Exploratory Data Analysis"
   ]
  },
  {
   "cell_type": "code",
   "execution_count": null,
   "metadata": {
    "colab": {
     "base_uri": "https://localhost:8080/",
     "height": 292
    },
    "colab_type": "code",
    "id": "k-JY7EuaJ5GM",
    "outputId": "e4bab55d-85a0-432e-b955-2fde23ad6c01"
   },
   "outputs": [],
   "source": [
    "print('Data Shape:', data.shape)\n",
    "data.head()"
   ]
  },
  {
   "cell_type": "markdown",
   "metadata": {
    "colab_type": "text",
    "id": "vfdqSY-xPExJ"
   },
   "source": [
    "**<h4>Question 1:** What is the **proportion** of **customers who are defaulter** and **who are not**?</h4>"
   ]
  },
  {
   "cell_type": "code",
   "execution_count": null,
   "metadata": {
    "colab": {
     "base_uri": "https://localhost:8080/",
     "height": 499
    },
    "colab_type": "code",
    "id": "r9dDZ761PECA",
    "outputId": "fb8d66be-b72b-4780-92fe-c151b59d98f4"
   },
   "outputs": [],
   "source": [
    "print('Customers who are not default:', data['is_default'].value_counts()[0])\n",
    "print('Customers who are default:', data['is_default'].value_counts()[1])\n",
    "\n",
    "space = np.ones(2)/10\n",
    "data['is_default'].value_counts().plot(kind = 'pie', explode = space, fontsize = 14, autopct = '%3.1f%%', wedgeprops = dict(width=0.15), \n",
    "                                       shadow = True, startangle = 160, figsize = [13.66, 7.68], legend = True)\n",
    "plt.legend(['Not Default', 'Default'])\n",
    "plt.ylabel('Category')\n",
    "plt.title('Proportion of default customers', size = 14)\n",
    "plt.show()"
   ]
  },
  {
   "cell_type": "markdown",
   "metadata": {
    "colab_type": "text",
    "id": "MgZHj4KjPn6u"
   },
   "source": [
    "**Observation:**\n",
    "\n",
    "- It comes out that only **7.6% of customers** who took the loan have been identified defaulted out of 887377 customers."
   ]
  },
  {
   "cell_type": "markdown",
   "metadata": {
    "colab_type": "text",
    "id": "tWVNdd-rMt0l"
   },
   "source": [
    "**<h4>Question 2:** What is the **rate of loan default** with respect to **final_date?</h4>**"
   ]
  },
  {
   "cell_type": "code",
   "execution_count": null,
   "metadata": {
    "colab": {
     "base_uri": "https://localhost:8080/",
     "height": 148
    },
    "colab_type": "code",
    "id": "UI7rKh1_6IJA",
    "outputId": "5a31f49a-d1d1-4795-9714-1a05d1c6563e"
   },
   "outputs": [],
   "source": [
    "year_frame = pd.DataFrame(data.groupby(by = ['date_final', 'is_default']).size(), columns = ['Count'])\n",
    "year_frame.transpose()"
   ]
  },
  {
   "cell_type": "code",
   "execution_count": null,
   "metadata": {
    "colab": {
     "base_uri": "https://localhost:8080/",
     "height": 388
    },
    "colab_type": "code",
    "id": "JiqFZyETMs7L",
    "outputId": "99015ecc-b6b8-4052-df46-cc1f413ba60d"
   },
   "outputs": [],
   "source": [
    "figure = plt.figure(figsize = [10, 6])\n",
    "data[data['is_default'] == 1]['date_final'].value_counts().plot(kind = 'line')\n",
    "plt.xlabel('Year', size = 14)\n",
    "plt.ylabel('Frequency', size = 14)\n",
    "plt.title('Loan Default rate at each year', size = 16)\n",
    "plt.show()"
   ]
  },
  {
   "cell_type": "markdown",
   "metadata": {
    "colab_type": "text",
    "id": "iJq-0pNvNDgO"
   },
   "source": [
    "**Observation:**\n",
    "\n",
    "- We can see that default rate **around 2015-02 year was more steep than any other year.**"
   ]
  },
  {
   "cell_type": "markdown",
   "metadata": {
    "colab_type": "text",
    "id": "kvZ3fD8m7NjK"
   },
   "source": [
    "**<h4>Question 3**: What is the **frequency** of **ownership** with respect to the being **default** of loan?</h4>"
   ]
  },
  {
   "cell_type": "code",
   "execution_count": null,
   "metadata": {
    "colab": {
     "base_uri": "https://localhost:8080/",
     "height": 111
    },
    "colab_type": "code",
    "id": "RJKyNeENb87O",
    "outputId": "26eea79b-237c-4d0a-dd6a-641bac7ad169"
   },
   "outputs": [],
   "source": [
    "own_type_frame = pd.DataFrame(data.groupby(by = ['own_type', 'is_default']).size(), columns = ['Count'])\n",
    "own_type_frame.transpose()"
   ]
  },
  {
   "cell_type": "code",
   "execution_count": null,
   "metadata": {
    "colab": {
     "base_uri": "https://localhost:8080/",
     "height": 541
    },
    "colab_type": "code",
    "id": "5Q0F-cEc5Tro",
    "outputId": "67b74f9b-c19d-4540-bc2d-cf87774a9816"
   },
   "outputs": [],
   "source": [
    "figure = plt.figure(figsize = [12, 8])\n",
    "ax = sns.countplot(x = 'own_type',  data = data, hue = 'is_default', palette = ['darkcyan', 'crimson'])\n",
    "total = data.shape[0]\n",
    "for p in ax.patches:\n",
    "  percentage = '{:.2f}%'.format(100*p.get_height()/total)\n",
    "  x = p.get_x() + p.get_width() / 10\n",
    "  y = p.get_y() + p.get_height() + 2\n",
    "  ax.annotate(percentage, (x, y))\n",
    "plt.yticks(range(0, 500000, 20000))\n",
    "plt.xlabel('Ownership Type', size = 14)\n",
    "plt.ylabel('Frequency', size = 14)\n",
    "plt.legend(labels = ['Not Default', 'Default'], loc = 'upper right')\n",
    "plt.title('Frequency occurence of Ownership Type', y=1.05, size = 16)\n",
    "plt.show()"
   ]
  },
  {
   "cell_type": "markdown",
   "metadata": {
    "colab_type": "text",
    "id": "0hm9d4t1-t7C"
   },
   "source": [
    "**Observation:**\n",
    "\n",
    "- From the above analysis we can see that there are **very few or no data points** that are on **default** for **NONE**, **OTHER**, **ANY**. We could drop these points and visualize our results again.\n",
    "- **Customers being default are only present for MORTGAGE, RENT and OWN type of Ownership**."
   ]
  },
  {
   "cell_type": "code",
   "execution_count": null,
   "metadata": {
    "colab": {
     "base_uri": "https://localhost:8080/",
     "height": 51
    },
    "colab_type": "code",
    "id": "8lfv9ppw7-Uy",
    "outputId": "59b9ac78-d9c6-4725-8b32-1a08a5cc30ef"
   },
   "outputs": [],
   "source": [
    "print('Before Filtering Shape:', data.shape)\n",
    "data = data[(data['own_type'] == 'MORTGAGE') | (data['own_type'] == 'RENT') | (data['own_type'] == 'OWN')]\n",
    "print('After Filtering Shape:', data.shape)"
   ]
  },
  {
   "cell_type": "markdown",
   "metadata": {
    "colab_type": "text",
    "id": "T-ydN-UT4ZEk"
   },
   "source": [
    "**<h4>Question 4:** What is the **frequency** & **proportion** of **ownership** **type** that has been **acquired** with **respect to the loan**?</h4>"
   ]
  },
  {
   "cell_type": "code",
   "execution_count": null,
   "metadata": {
    "colab": {
     "base_uri": "https://localhost:8080/",
     "height": 410
    },
    "colab_type": "code",
    "id": "kLh5qOqI34gn",
    "outputId": "2c3edcb6-e64b-4e84-a071-3ef4817ce82b"
   },
   "outputs": [],
   "source": [
    "print(data['own_type'].value_counts())\n",
    "# Bar Plot\n",
    "colors_list = ['lightcoral', 'lightgreen', 'mediumturquoise']\n",
    "figure = plt.figure(figsize = [12, 8])\n",
    "plt.subplot(1, 2, 1)\n",
    "sns.barplot(data['own_type'].value_counts().index, data['own_type'].value_counts(), palette  = colors_list)\n",
    "plt.yticks(range(0, 500000, 20000))\n",
    "plt.xlabel('Ownership Type')\n",
    "plt.ylabel('Frequency')\n",
    "plt.title('Frequency occurence of Ownership Type', y=1.05, size = 14)\n",
    "\n",
    "explode_list = [0, 0 , 0.2]\n",
    "\n",
    "plt.subplot(1, 2, 2)\n",
    "# Pie Plot\n",
    "data['own_type'].value_counts().plot(kind = 'pie', figsize = [10, 5], autopct = '%1.1f%%', startangle = 90, \n",
    "                                     shadow = True, labels = None, pctdistance = 1.12, colors = colors_list, \n",
    "                                     explode = explode_list)\n",
    "plt.title('Proportion of each Ownership Type w.r.t loan', y = 1.05, size = 14)\n",
    "plt.ylabel('')\n",
    "plt.axis('equal')\n",
    "plt.legend(labels = data['own_type'].value_counts().index, loc = 'upper left', frameon = False)\n",
    "plt.tight_layout(pad=2.0)\n",
    "plt.show()"
   ]
  },
  {
   "cell_type": "markdown",
   "metadata": {
    "colab_type": "text",
    "id": "d2vHfuUQEMHy"
   },
   "source": [
    "**Observation:**\n",
    "\n",
    "- From above we can see that **50% of customers have ownership under MORTGAGE type**."
   ]
  },
  {
   "cell_type": "markdown",
   "metadata": {
    "colab_type": "text",
    "id": "bDS4GvCLMYJF"
   },
   "source": [
    "**<h4>Question 5:** What is the **frequency** distribution of **loan defaulter across each state**?</h4>"
   ]
  },
  {
   "cell_type": "code",
   "execution_count": null,
   "metadata": {
    "colab": {
     "base_uri": "https://localhost:8080/",
     "height": 148
    },
    "colab_type": "code",
    "id": "YRjytjPJu4HV",
    "outputId": "d0466234-04e0-4b71-dbb4-f3844a750c42"
   },
   "outputs": [],
   "source": [
    "year_frame = pd.DataFrame(data.groupby(by = ['state', 'is_default']).size(), columns = ['Count'])\n",
    "year_frame.transpose()"
   ]
  },
  {
   "cell_type": "code",
   "execution_count": null,
   "metadata": {
    "colab": {
     "base_uri": "https://localhost:8080/",
     "height": 629
    },
    "colab_type": "code",
    "id": "7dLK26Ou__Gj",
    "outputId": "e5240622-ae08-423b-87e8-e024c8f6480c"
   },
   "outputs": [],
   "source": [
    "figure = plt.figure(figsize = [12, 8])\n",
    "sns.countplot(x = 'state',  data = data, hue = 'is_default', palette = ['coral', 'darkblue'])\n",
    "plt.yticks(range(0, 35000, 2000))\n",
    "plt.xlabel('State', size = 14)\n",
    "plt.xticks(rotation = 90, size = 14)\n",
    "plt.ylabel('Frequency', size = 14)\n",
    "plt.legend(labels = ['Not Default', 'Default'], loc = 'upper right')\n",
    "plt.title('Defaulter vs Non-Defaulter per State', y = 1, size = 16)\n",
    "plt.show()"
   ]
  },
  {
   "cell_type": "markdown",
   "metadata": {
    "colab_type": "text",
    "id": "ukuHBDs-OJBh"
   },
   "source": [
    "**Observation:**\n",
    "\n",
    "- From the above visualization, we found that **each state has almost equally default rate frequency distribution (~2500/state)**."
   ]
  },
  {
   "cell_type": "markdown",
   "metadata": {
    "colab_type": "text",
    "id": "J2KeP6LHFQ11"
   },
   "source": [
    "**<h4>Question 6:** What is the **distribution** of **loan default with respect to the loan duration**?</h4>"
   ]
  },
  {
   "cell_type": "code",
   "execution_count": null,
   "metadata": {
    "colab": {
     "base_uri": "https://localhost:8080/",
     "height": 111
    },
    "colab_type": "code",
    "id": "MuV7Ljpx1dTe",
    "outputId": "e727569c-222a-49a2-b299-892083a2807a"
   },
   "outputs": [],
   "source": [
    "loan_duration_frame = pd.DataFrame(data.groupby(by = ['loan_duration', 'is_default']).size(), columns = ['Count'])\n",
    "loan_duration_frame.transpose()"
   ]
  },
  {
   "cell_type": "code",
   "execution_count": null,
   "metadata": {
    "colab": {
     "base_uri": "https://localhost:8080/",
     "height": 519
    },
    "colab_type": "code",
    "id": "gxpfdM1hsGcN",
    "outputId": "04d2d018-3380-48be-c604-66bc9cc8a9fb"
   },
   "outputs": [],
   "source": [
    "figure = plt.figure(figsize = [12, 8])\n",
    "ax = sns.countplot(x = 'loan_duration',  data = data, hue = 'is_default', palette = ['cadetblue', 'coral'])\n",
    "total = data.shape[0]\n",
    "for p in ax.patches:\n",
    "  percentage = '{:.2f}%'.format(100*p.get_height()/total)\n",
    "  x = p.get_x() + p.get_width() / 3\n",
    "  y = p.get_y() + p.get_height()\n",
    "  ax.annotate(percentage, (x, y))\n",
    "plt.xlabel('Loan Duration', size = 14)\n",
    "plt.ylabel('Frequency', size = 14)\n",
    "plt.yticks(range(0, 600000, 20000))\n",
    "plt.legend(labels = ['Not Default', 'Default'], loc = 'upper right')\n",
    "plt.title('Loan Duration vs Loan Default ', y = 1, size = 16)\n",
    "plt.show()"
   ]
  },
  {
   "cell_type": "markdown",
   "metadata": {
    "colab_type": "text",
    "id": "5k--I3VFGYqC"
   },
   "source": [
    "**Observation:**\n",
    "\n",
    "- Customers with **36 months loan duration** are found to be **more defaulter** **than** the customers with 60 months of loan duration."
   ]
  },
  {
   "cell_type": "markdown",
   "metadata": {
    "colab_type": "text",
    "id": "7ejUcopE10cD"
   },
   "source": [
    "**<h4>Question 7:** What is the **frequency** distribution of **loan purpose with respect to loan default**?</h4>"
   ]
  },
  {
   "cell_type": "code",
   "execution_count": null,
   "metadata": {
    "colab": {
     "base_uri": "https://localhost:8080/",
     "height": 131
    },
    "colab_type": "code",
    "id": "62-snps53NNm",
    "outputId": "ea96e0cb-ca9b-45cf-f587-19f90c9442f9"
   },
   "outputs": [],
   "source": [
    "loan_duration_frame = pd.DataFrame(data.groupby(by = ['loan_purpose', 'is_default']).size(), columns = ['Count'])\n",
    "loan_duration_frame.transpose()"
   ]
  },
  {
   "cell_type": "code",
   "execution_count": null,
   "metadata": {
    "colab": {
     "base_uri": "https://localhost:8080/",
     "height": 597
    },
    "colab_type": "code",
    "id": "qhT1vfX30Jod",
    "outputId": "d9947cb3-f6a3-4b6a-d1fa-5583812d353f"
   },
   "outputs": [],
   "source": [
    "figure = plt.figure(figsize = [12, 8])\n",
    "sns.countplot(x = 'loan_purpose',  data = data, hue = 'is_default', palette = ['#95a5a6', '#9b59b6'])\n",
    "plt.xlabel('Loan Purpose', size = 14)\n",
    "plt.ylabel('Frequency', size = 14)\n",
    "plt.xticks(rotation = 90)\n",
    "plt.yticks(ticks = range(0, 500000, 20000))\n",
    "plt.legend(labels = ['Not Default', 'Default'], loc = 'upper right')\n",
    "plt.title('Loan Purpose vs Loan Default', y = 1, size = 16)\n",
    "plt.show()"
   ]
  },
  {
   "cell_type": "markdown",
   "metadata": {
    "colab_type": "text",
    "id": "CZLSE2dgHU9v"
   },
   "source": [
    "**Observation:**\n",
    "\n",
    "- Customers with **debt_consolidation** are found to be **more defaulter than any other reason** of loan purpose."
   ]
  },
  {
   "cell_type": "markdown",
   "metadata": {
    "colab_type": "text",
    "id": "nub-To6QCcSx"
   },
   "source": [
    "**<h4>Question 8:** Which **grade** is **mostly influenced by** the **is_default** feature?</h4>"
   ]
  },
  {
   "cell_type": "code",
   "execution_count": null,
   "metadata": {
    "colab": {
     "base_uri": "https://localhost:8080/",
     "height": 541
    },
    "colab_type": "code",
    "id": "v8t0J7dK-ehQ",
    "outputId": "01eff569-6c2c-4c02-a127-6d02b040caa3"
   },
   "outputs": [],
   "source": [
    "figure = plt.figure(figsize = [12, 8])\n",
    "ax = sns.countplot(x = 'grade',  data = data, hue = 'is_default', palette = ['#3498db', '#e74c3c'])\n",
    "total = data.shape[0]\n",
    "for p in ax.patches:\n",
    "  percentage = '{:.2f}%'.format(100*p.get_height()/total)\n",
    "  x = p.get_x() + p.get_width() / 8\n",
    "  y = p.get_y() + p.get_height()\n",
    "  ax.annotate(percentage, (x, y))\n",
    "plt.xlabel('Grade', size = 14)\n",
    "plt.ylabel('Frequency', size = 14)\n",
    "plt.yticks(ticks = range(0, 260000, 20000))\n",
    "plt.legend(labels = ['Not Default', 'Default'], loc = 'upper right')\n",
    "plt.title('Frequency occurence of grade w.r.t. Loan Default', y = 1.05, size = 16)\n",
    "plt.show()"
   ]
  },
  {
   "cell_type": "markdown",
   "metadata": {
    "colab_type": "text",
    "id": "1yoWVMUqIm-n"
   },
   "source": [
    "**Observation:**\n",
    "\n",
    "- We can see that **C grade is highly influenced** followed by D then B and then all other in order."
   ]
  },
  {
   "cell_type": "markdown",
   "metadata": {
    "colab_type": "text",
    "id": "iISQxgCXJ3JE"
   },
   "source": [
    "Now **we will** make a function to **analyze the default rate with respect to some numerical features**. We will **analyze the outliers and perform capping** over these outliers."
   ]
  },
  {
   "cell_type": "code",
   "execution_count": null,
   "metadata": {
    "colab": {},
    "colab_type": "code",
    "id": "Pr4fLo2FJ2im"
   },
   "outputs": [],
   "source": [
    "def QuantileDistPlot(x, y, sup_title):\n",
    "  '''\n",
    "  A function to plot distribution of quantiles of features\n",
    "  x: categorical feature\n",
    "  y: Numerical feature\n",
    "  sup_title: sup_title\n",
    "  '''\n",
    "  figure = plt.figure(figsize = [12, 8])\n",
    "  plt.subplot(1, 2, 1)\n",
    "  sns.boxplot(y = data[x])\n",
    "  plt.xlabel('Overall', size = 14)\n",
    "  plt.ylabel('Interest Rate', size = 14)\n",
    "  plt.title('Aggregate View', size = 16)\n",
    "  plt.suptitle(t = \"Quantile Distribution of \" + sup_title + \" feature\", y = 1.03, size = 18)\n",
    "\n",
    "  plt.subplot(1, 2, 2)\n",
    "  ax = sns.boxplot(x = data[y], y = data[x])\n",
    "  ax.set_xticklabels(labels = ['No', 'Yes'])\n",
    "  plt.xlabel('Default', size = 14)\n",
    "  plt.ylabel('Interest Rate', size = 14)\n",
    "  plt.title('Segregate View', size = 16)\n",
    "  plt.tight_layout(pad = 2.0)\n",
    "  plt.show()"
   ]
  },
  {
   "cell_type": "markdown",
   "metadata": {
    "colab_type": "text",
    "id": "-I8z6vAbOWNO"
   },
   "source": [
    "**<h4>Question 9:** What is the **distribution of annual income with being default or not**?</h4>"
   ]
  },
  {
   "cell_type": "code",
   "execution_count": null,
   "metadata": {
    "colab": {
     "base_uri": "https://localhost:8080/",
     "height": 600
    },
    "colab_type": "code",
    "id": "RZzzC_BvKOpv",
    "outputId": "2c77e241-6f84-467a-b4e4-bc8346c4cca5"
   },
   "outputs": [],
   "source": [
    "QuantileDistPlot(x = 'annual_pay', y = 'is_default', sup_title = 'Annual Pay')"
   ]
  },
  {
   "cell_type": "markdown",
   "metadata": {
    "colab_type": "text",
    "id": "I57jGgyQKe_a"
   },
   "source": [
    "**Observation:**\n",
    "\n",
    "- As a result we saw **so many** values which are **outliers**.\n",
    "- We **will estimate the 99th percentile value** and **perform the capping over these outliers**."
   ]
  },
  {
   "cell_type": "markdown",
   "metadata": {
    "colab_type": "text",
    "id": "8zXItEdkFrAI"
   },
   "source": [
    "Before making changes we should **analyze the amount** that is **present at 99th percentile**."
   ]
  },
  {
   "cell_type": "code",
   "execution_count": null,
   "metadata": {
    "colab": {
     "base_uri": "https://localhost:8080/",
     "height": 34
    },
    "colab_type": "code",
    "id": "ChnV_9V6jS9V",
    "outputId": "e862cfda-072e-4427-df88-e06205948581"
   },
   "outputs": [],
   "source": [
    "print('Amount [at 99 percentile]:', data['annual_pay'].quantile(0.99))"
   ]
  },
  {
   "cell_type": "markdown",
   "metadata": {
    "colab_type": "text",
    "id": "Jot-g0ExFpxc"
   },
   "source": [
    "Next we need to **identify** that part of the **data**, that contains defaulter as well as non-defaulter **greater than 99th percentile**."
   ]
  },
  {
   "cell_type": "code",
   "execution_count": null,
   "metadata": {
    "colab": {
     "base_uri": "https://localhost:8080/",
     "height": 51
    },
    "colab_type": "code",
    "id": "43qNGgo0jVJi",
    "outputId": "0c1cb97c-ae23-412e-f5bb-3f85b831f180"
   },
   "outputs": [],
   "source": [
    "annual_pay_default = data[(data['is_default'] == 1) & (data['annual_pay'] > data['annual_pay'].quantile(0.99))]['annual_pay']\n",
    "annual_pay_notdefault = data[(data['is_default'] == 0) & (data['annual_pay'] > data['annual_pay'].quantile(0.99))]['annual_pay']\n",
    "\n",
    "print('Customers Frequency [default]:', len(annual_pay_default))\n",
    "print('Customers Frequency [not default]:', len(annual_pay_notdefault))"
   ]
  },
  {
   "cell_type": "markdown",
   "metadata": {
    "colab_type": "text",
    "id": "9qlRLRIBGdku"
   },
   "source": [
    "We can also look at the **average amount for the defaulter as well as non-defaulter**."
   ]
  },
  {
   "cell_type": "code",
   "execution_count": null,
   "metadata": {
    "colab": {
     "base_uri": "https://localhost:8080/",
     "height": 51
    },
    "colab_type": "code",
    "id": "0MY4TkRHjX-C",
    "outputId": "79f9b9c9-da3e-494b-afbd-a2278bf7f8b4"
   },
   "outputs": [],
   "source": [
    "print('The average annual income of customers [default]:', np.round(annual_pay_default.mean(), decimals = 2))\n",
    "print('The average annual income of customers [not default]:', np.round(annual_pay_notdefault.mean(), decimals = 2))"
   ]
  },
  {
   "cell_type": "markdown",
   "metadata": {
    "colab_type": "text",
    "id": "025CsPTPqhAv"
   },
   "source": [
    "**Performing capping over outliers**\n",
    "\n",
    "- From the above analysis we can saw that **annual_pay** feature contains **outliers**. \n",
    "- We can **apply capping here at 99th percentile** and visualize again."
   ]
  },
  {
   "cell_type": "code",
   "execution_count": null,
   "metadata": {
    "colab": {
     "base_uri": "https://localhost:8080/",
     "height": 600
    },
    "colab_type": "code",
    "id": "VGNQHTMRg7QK",
    "outputId": "d12d0db7-33eb-4754-d7ef-dc16c36e1022"
   },
   "outputs": [],
   "source": [
    "outlier_index = data[data['annual_pay'] > data['annual_pay'].quantile(0.99)].index\n",
    "data.loc[outlier_index, 'annual_pay'] = data['annual_pay'].quantile(0.99)\n",
    "QuantileDistPlot(x = 'annual_pay', y = 'is_default', sup_title = 'Annual Pay')"
   ]
  },
  {
   "cell_type": "markdown",
   "metadata": {
    "colab_type": "text",
    "id": "-UiFKy32tJ93"
   },
   "source": [
    "**Observation:**\n",
    "\n",
    "- From above we can see that the **values are distributed outside the extremes**. \n",
    "- **We will handle this** spread by **applying standardization** on data when we will prepare data **before feeding to the model**."
   ]
  },
  {
   "cell_type": "markdown",
   "metadata": {
    "colab_type": "text",
    "id": "qUNyxHlF6wk8"
   },
   "source": [
    "**<h4>Question 10:** What is the **distribution of interest rate with being default or not**?</h4>"
   ]
  },
  {
   "cell_type": "code",
   "execution_count": null,
   "metadata": {
    "colab": {
     "base_uri": "https://localhost:8080/",
     "height": 600
    },
    "colab_type": "code",
    "id": "R6cVJMpq6h8Z",
    "outputId": "f3a56fcc-855c-4940-e2ef-33b6086cedda"
   },
   "outputs": [],
   "source": [
    "QuantileDistPlot(x = 'interest_rate', y = 'is_default', sup_title = 'Interest Rate')"
   ]
  },
  {
   "cell_type": "markdown",
   "metadata": {
    "colab_type": "text",
    "id": "H1OWQF4I8heB"
   },
   "source": [
    "**Observation:**\n",
    "\n",
    "- We can see some **outlier**. We can perform **capping** here. \n",
    "- We shall see the values greater than 99th precentile.\n",
    "- Lets' get the value of interest rate at **99th percentile** and replace the outlied values with 99th percentile value.\n"
   ]
  },
  {
   "cell_type": "markdown",
   "metadata": {
    "colab_type": "text",
    "id": "3Aav2yEyHdaG"
   },
   "source": [
    "Before making changes we should **analyze the interest rate** that is **present at 99th percentile**."
   ]
  },
  {
   "cell_type": "code",
   "execution_count": null,
   "metadata": {
    "colab": {
     "base_uri": "https://localhost:8080/",
     "height": 34
    },
    "colab_type": "code",
    "id": "W-acbnJ9hc9F",
    "outputId": "1f8a481f-5ef5-4ef4-fd9f-f404aea0a8df"
   },
   "outputs": [],
   "source": [
    "print('Interest Rate [at 99 percentile]:', data['interest_rate'].quantile(0.99))"
   ]
  },
  {
   "cell_type": "markdown",
   "metadata": {
    "colab_type": "text",
    "id": "ZxJFwPHuHil7"
   },
   "source": [
    "Next we need to **identify** that part of the **data**, that contains defaulter as well as non-defaulter **greater than 99th percentile**."
   ]
  },
  {
   "cell_type": "code",
   "execution_count": null,
   "metadata": {
    "colab": {
     "base_uri": "https://localhost:8080/",
     "height": 51
    },
    "colab_type": "code",
    "id": "P95-mdrAi6sm",
    "outputId": "aec7892e-d6b5-4186-ba0d-a5654d177ed6"
   },
   "outputs": [],
   "source": [
    "interest_rate_default = data[(data['is_default'] == 1) & (data['interest_rate'] > data['interest_rate'].quantile(0.99))]['interest_rate']\n",
    "interest_rate_notdefault = data[(data['is_default'] == 0) & (data['interest_rate'] > data['interest_rate'].quantile(0.99))]['interest_rate']\n",
    "\n",
    "print('Customers Frequency [default]:', len(interest_rate_default))\n",
    "print('Customers Frequency [not default]:', len(interest_rate_notdefault))"
   ]
  },
  {
   "cell_type": "markdown",
   "metadata": {
    "colab_type": "text",
    "id": "ziZKsSHLH3QC"
   },
   "source": [
    "We can also look at the **average interest rate for the defaulter as well as non-defaulter**."
   ]
  },
  {
   "cell_type": "code",
   "execution_count": null,
   "metadata": {
    "colab": {
     "base_uri": "https://localhost:8080/",
     "height": 51
    },
    "colab_type": "code",
    "id": "hD8YbN9Ci-97",
    "outputId": "86ecd8e8-6803-4978-a2a2-6d5ebe77b59d"
   },
   "outputs": [],
   "source": [
    "print('The average interest rate [default]:', np.round(interest_rate_default.mean(), decimals = 2))\n",
    "print('The average interest rate [not default]:', np.round(interest_rate_notdefault.mean(), decimals = 2))"
   ]
  },
  {
   "cell_type": "markdown",
   "metadata": {
    "colab_type": "text",
    "id": "e8x-Fe55ILD3"
   },
   "source": [
    "**Performing capping over outliers**\n",
    "\n",
    "- From the above analysis we can saw that **interest_rate** feature contains **outliers**. \n",
    "- We can **apply capping here at 99th percentile** and visualize again."
   ]
  },
  {
   "cell_type": "code",
   "execution_count": null,
   "metadata": {
    "colab": {
     "base_uri": "https://localhost:8080/",
     "height": 600
    },
    "colab_type": "code",
    "id": "1aIyz4iB9hLL",
    "outputId": "84d7455c-e215-4919-abb9-1c9d5f033c8d"
   },
   "outputs": [],
   "source": [
    "# Performing capping and analyzing again\n",
    "outlier_index = data[data['interest_rate'] > data['interest_rate'].quantile(0.99)].index\n",
    "data.loc[outlier_index, 'interest_rate'] = data['interest_rate'].quantile(0.99)\n",
    "QuantileDistPlot(x = 'interest_rate', y = 'is_default', sup_title = 'Interest Rate')"
   ]
  },
  {
   "cell_type": "markdown",
   "metadata": {
    "colab_type": "text",
    "id": "334mOl1cQ8Y0"
   },
   "source": [
    "**Observation:**\n",
    "\n",
    "- We can see that there are **still some values that lies at extreme** for non-defaulter. \n",
    "- We **will handle this** by **applying standardization while preparing data** **for our model**."
   ]
  },
  {
   "cell_type": "markdown",
   "metadata": {
    "colab_type": "text",
    "id": "uJgg1LxwQ61U"
   },
   "source": [
    "**<h4>Question 11:** What is the **distribution of Dept to Income Ratio (dti) with being default or not**?</h4>"
   ]
  },
  {
   "cell_type": "code",
   "execution_count": null,
   "metadata": {
    "colab": {
     "base_uri": "https://localhost:8080/",
     "height": 600
    },
    "colab_type": "code",
    "id": "S8n0d3tuDdU8",
    "outputId": "292729e0-219c-49e5-f2a6-b557ef76242c"
   },
   "outputs": [],
   "source": [
    "QuantileDistPlot(x = 'dti', y = 'is_default', sup_title = 'Debt-to-Income')"
   ]
  },
  {
   "cell_type": "markdown",
   "metadata": {
    "colab_type": "text",
    "id": "I_KjWfyeEXIG"
   },
   "source": [
    "**Observation:**\n",
    "\n",
    "- Again we can see some **outliers in the dti feature.** \n",
    "- **We will do the same thing, replacing outliers with 99th percentile.**"
   ]
  },
  {
   "cell_type": "markdown",
   "metadata": {
    "colab_type": "text",
    "id": "u1fUsEbNIkeD"
   },
   "source": [
    "Before making changes we should **analyze the dti** that is **present at 99th percentile**."
   ]
  },
  {
   "cell_type": "code",
   "execution_count": null,
   "metadata": {
    "colab": {
     "base_uri": "https://localhost:8080/",
     "height": 34
    },
    "colab_type": "code",
    "id": "_uCFFe24iuAk",
    "outputId": "d0dcbc07-4fbf-4e33-ec64-9fe198056a42"
   },
   "outputs": [],
   "source": [
    "print('Debt to Income Ratio (dti) [at 99 percentile]:', data['dti'].quantile(0.99))"
   ]
  },
  {
   "cell_type": "markdown",
   "metadata": {
    "colab_type": "text",
    "id": "vj3Gbx4VIrFX"
   },
   "source": [
    "Next we need to **identify** that part of the **data**, that contains defaulter as well as non-defaulter **greater than 99th percentile**."
   ]
  },
  {
   "cell_type": "code",
   "execution_count": null,
   "metadata": {
    "colab": {
     "base_uri": "https://localhost:8080/",
     "height": 51
    },
    "colab_type": "code",
    "id": "cabKzhEbiyHn",
    "outputId": "eecdc85e-9cd2-4cf2-9233-570267c6b4bf"
   },
   "outputs": [],
   "source": [
    "dti_default = data[(data['is_default'] == 1) & (data['dti'] > data['dti'].quantile(0.99))]['dti']\n",
    "dti_notdefault = data[(data['is_default'] == 0) & (data['dti'] > data['dti'].quantile(0.99))]['dti']\n",
    "\n",
    "print('Customers Frequency [default]:', len(dti_default))\n",
    "print('Customers Frequency [not default]:', len(dti_notdefault))"
   ]
  },
  {
   "cell_type": "markdown",
   "metadata": {
    "colab_type": "text",
    "id": "KxQhItYbIyeR"
   },
   "source": [
    "We can also look at the **average dti for the defaulter as well as non-defaulter**."
   ]
  },
  {
   "cell_type": "code",
   "execution_count": null,
   "metadata": {
    "colab": {
     "base_uri": "https://localhost:8080/",
     "height": 51
    },
    "colab_type": "code",
    "id": "Y_QPNc_zETW6",
    "outputId": "fa22ac2a-b41d-485b-8bf0-210e2d5f934b"
   },
   "outputs": [],
   "source": [
    "print('The average dti value of issued loan [default]', np.round(dti_default.mean(), decimals = 2))\n",
    "print('The average dti value of issued loan [not default]', np.round(dti_notdefault.mean(), decimals = 2))"
   ]
  },
  {
   "cell_type": "markdown",
   "metadata": {
    "colab_type": "text",
    "id": "awzrknVAI9gv"
   },
   "source": [
    "**Performing capping over outliers**\n",
    "\n",
    "- From the above analysis we can saw that **dti** feature contains **outliers**. \n",
    "- We can **apply capping here at 99th percentile** and visualize again."
   ]
  },
  {
   "cell_type": "code",
   "execution_count": null,
   "metadata": {
    "colab": {
     "base_uri": "https://localhost:8080/",
     "height": 600
    },
    "colab_type": "code",
    "id": "DSvlw9l4E5Z6",
    "outputId": "d76c51cc-5ce2-45c9-c63a-03fcd0ebb433"
   },
   "outputs": [],
   "source": [
    "# Performing capping and analyzing again\n",
    "outlier_index = data[data['dti'] > data['dti'].quantile(0.99)].index\n",
    "data.loc[outlier_index, 'dti'] = data['dti'].quantile(0.99)\n",
    "QuantileDistPlot(x = 'dti', y = 'is_default', sup_title = 'Debt-to-Income')"
   ]
  },
  {
   "cell_type": "markdown",
   "metadata": {
    "colab_type": "text",
    "id": "lPiTKrJuSOq0"
   },
   "source": [
    "**Observation:**\n",
    "\n",
    "- It turns out that **we get rid of all the outliers present for dti feature**."
   ]
  },
  {
   "cell_type": "markdown",
   "metadata": {
    "colab_type": "text",
    "id": "_7e2ETZDFWN2"
   },
   "source": [
    "<a id = Section7></a>\n",
    "# 7. Post Data Processing & Feature Selection"
   ]
  },
  {
   "cell_type": "code",
   "execution_count": null,
   "metadata": {
    "colab": {
     "base_uri": "https://localhost:8080/",
     "height": 292
    },
    "colab_type": "code",
    "id": "TOOv8e4qFbO5",
    "outputId": "d629949e-5c11-4d8c-c3d9-3c12cbea4e2a"
   },
   "outputs": [],
   "source": [
    "print('Data Shape:', data.shape)\n",
    "data.head()"
   ]
  },
  {
   "cell_type": "markdown",
   "metadata": {
    "colab_type": "text",
    "id": "n5ufhoEpTyIY"
   },
   "source": [
    "### **Dropping Unncessary Features:**\n",
    "We can **drop cust_id, date_issued and date_final** as they are not useful for prediction purpose."
   ]
  },
  {
   "cell_type": "code",
   "execution_count": null,
   "metadata": {
    "colab": {
     "base_uri": "https://localhost:8080/",
     "height": 292
    },
    "colab_type": "code",
    "id": "ppnT4HPYrkgC",
    "outputId": "1baec19c-bbbe-48cb-a397-dbd2d6252733"
   },
   "outputs": [],
   "source": [
    "data.drop(labels = ['cust_id', 'date_issued', 'date_final'], axis = 1, inplace = True)\n",
    "print(data.shape)\n",
    "data.head()"
   ]
  },
  {
   "cell_type": "markdown",
   "metadata": {
    "colab_type": "text",
    "id": "Ta9h5DsIFtCT"
   },
   "source": [
    "### **Handling Categorical Features:**\n",
    "\n",
    "We can perform **label encoding on year, income_type, app_type, interest_payments, grade, loan_duration** as they are ordered features & **one hot encoding on own_type, loan_purpose** as they are unordered in nature. But state is unordered, if performed label encoding, machine will make a difference and if we performed dummification, there will be too many features. Instead we can drop it."
   ]
  },
  {
   "cell_type": "code",
   "execution_count": null,
   "metadata": {
    "colab": {
     "base_uri": "https://localhost:8080/",
     "height": 51
    },
    "colab_type": "code",
    "id": "WHqt6Km9athi",
    "outputId": "d6362b4a-0b24-42b0-86bb-6a5d1976c063"
   },
   "outputs": [],
   "source": [
    "data.drop(labels = ['state'], axis = 1, inplace = True)\n",
    "print(data.shape)\n",
    "print('Drop Success!')"
   ]
  },
  {
   "cell_type": "markdown",
   "metadata": {
    "colab_type": "text",
    "id": "DxYHpisZ8OPC"
   },
   "source": [
    "#### **Performing Label Encoding**"
   ]
  },
  {
   "cell_type": "code",
   "execution_count": null,
   "metadata": {
    "colab": {
     "base_uri": "https://localhost:8080/",
     "height": 258
    },
    "colab_type": "code",
    "id": "06R1FPqEtF8X",
    "outputId": "2176a4d6-6801-42c1-b829-ca87033c2682"
   },
   "outputs": [],
   "source": [
    "ordered_labels = ['year', 'income_type', 'app_type', 'interest_payments', 'grade', 'loan_duration']\n",
    "encode = LabelEncoder()\n",
    "\n",
    "for i in ordered_labels:\n",
    "  if isinstance(data[i].dtype, object):\n",
    "    data[i] = encode.fit_transform(data[i])\n",
    "print('Label Encoding Success!')\n",
    "print('Data Shape:', data.shape)\n",
    "data.head()"
   ]
  },
  {
   "cell_type": "markdown",
   "metadata": {
    "colab_type": "text",
    "id": "PBoMx-Mf-NMq"
   },
   "source": [
    "#### **Performing Dummification**"
   ]
  },
  {
   "cell_type": "code",
   "execution_count": null,
   "metadata": {
    "colab": {
     "base_uri": "https://localhost:8080/",
     "height": 241
    },
    "colab_type": "code",
    "id": "lFbgvC6Lykkq",
    "outputId": "78c35fae-570e-4ce6-a857-6ceb675fa1f0"
   },
   "outputs": [],
   "source": [
    "data = pd.get_dummies(data = data, columns = ['own_type', 'loan_purpose'])\n",
    "print('Data Shape:', data.shape)\n",
    "data.head()"
   ]
  },
  {
   "cell_type": "code",
   "execution_count": null,
   "metadata": {
    "colab": {
     "base_uri": "https://localhost:8080/",
     "height": 51
    },
    "colab_type": "code",
    "id": "JalSMDQHyc7N",
    "outputId": "57e12963-d0c9-4f36-bdfd-8316d4e3ad7d"
   },
   "outputs": [],
   "source": [
    "X, y = data.drop('is_default', axis = 1), data['is_default']\n",
    "print('X Shape:', X.shape)\n",
    "print('y Shape:', y.shape)"
   ]
  },
  {
   "cell_type": "markdown",
   "metadata": {
    "colab_type": "text",
    "id": "71drHrgcB3xs"
   },
   "source": [
    "#### **Performing Standardization**"
   ]
  },
  {
   "cell_type": "code",
   "execution_count": null,
   "metadata": {
    "colab": {
     "base_uri": "https://localhost:8080/",
     "height": 241
    },
    "colab_type": "code",
    "id": "CEaCb86_B2Ys",
    "outputId": "b1c673e6-1cf6-4d74-d929-f54cd4f561fa"
   },
   "outputs": [],
   "source": [
    "std_scale = StandardScaler()\n",
    "scale_fit = std_scale.fit_transform(X)\n",
    "\n",
    "X_data = pd.DataFrame(scale_fit, columns = X.columns)\n",
    "print('Data Shape:', X_data.shape)\n",
    "X_data.head()"
   ]
  },
  {
   "cell_type": "code",
   "execution_count": null,
   "metadata": {
    "colab": {
     "base_uri": "https://localhost:8080/",
     "height": 51
    },
    "colab_type": "code",
    "id": "OeJFtjBq8IJ8",
    "outputId": "229e6aaa-a3e0-406c-cb81-3b6497806a99"
   },
   "outputs": [],
   "source": [
    "X_train, X_test, y_train, y_test = train_test_split(X_data, y, test_size = 0.2, random_state = 42, stratify = y)\n",
    "print('Train Shape:', X_train.shape, y_train.shape)\n",
    "print('Test Shape:', X_test.shape, y_test.shape)"
   ]
  },
  {
   "cell_type": "markdown",
   "metadata": {
    "colab_type": "text",
    "id": "dJvHKlebDRPi"
   },
   "source": [
    "### **Feature Selection using Random Forest**\n",
    "\n",
    "- **Random forests** are one the most **popular machine learning algorithms**. - They **provide**,\n",
    " - **a good predictive performance**,\n",
    " -**low overfitting and**\n",
    " -**easy interpretability.** \n",
    "-This interpretability **derives** the **importance of each feature** on the tree decision. In other words, it is **easy to compute** how much **each feature is contributing** to the **decision**."
   ]
  },
  {
   "cell_type": "code",
   "execution_count": null,
   "metadata": {
    "colab": {
     "base_uri": "https://localhost:8080/",
     "height": 85
    },
    "colab_type": "code",
    "id": "mmtG_fGv-0_H",
    "outputId": "caaaccd1-e689-4a5b-cac0-4811a749f2b1"
   },
   "outputs": [],
   "source": [
    "# Have some patience, may take some time.\n",
    "sel = SelectFromModel(RandomForestClassifier(n_estimators = 100, random_state = 42))\n",
    "sel.fit(X_train, y_train)\n",
    "selected_feat= X_train.columns[(sel.get_support())]\n",
    "print('Total Features Selected are', len(selected_feat))\n",
    "print('Features:', selected_feat)"
   ]
  },
  {
   "cell_type": "markdown",
   "metadata": {
    "colab_type": "text",
    "id": "PrJVgyC6drPD"
   },
   "source": [
    "**Observation:**\n",
    "\n",
    "- **There are 9 features estimated important by Random Forest:** \n",
    " - year,\n",
    " - annual_pay, \n",
    " - loan_amount, \n",
    " - interest_rate, \n",
    " - dti, \n",
    " - total_pymnt, \n",
    " - total_rec_prncp, \n",
    " - recoveries, \n",
    " - installment."
   ]
  },
  {
   "cell_type": "markdown",
   "metadata": {
    "colab_type": "text",
    "id": "dX2tcTt-D1ON"
   },
   "source": [
    "<a id = Section8></a>\n",
    "# 8. Model Development & Evaluation\n",
    "\n",
    "In this section we'll **build model using** only **important features** that impact highly on our target feature i.e. is_default.<br> In the following part we will make a function to plot the performance of the model."
   ]
  },
  {
   "cell_type": "code",
   "execution_count": null,
   "metadata": {
    "colab": {},
    "colab_type": "code",
    "id": "K8S3FTl6swkX"
   },
   "outputs": [],
   "source": [
    "def PRCurve(model):\n",
    "  '''\n",
    "  A function to visualize Precision Recall Curve.\n",
    "  Returns average precision score of the model.\n",
    "  Data to fit must be training i.e. X_train, y_train.\n",
    "  Data score will be estimated on X_test, y_test.\n",
    "  '''\n",
    "  viz = PrecisionRecallCurve(model)\n",
    "  viz.fit(X_train, y_train)\n",
    "  avg_prec = viz.score(X_test, y_test)\n",
    "  plt.legend(labels = ['Binary PR Curve',\"AP=%.3f\"%avg_prec], loc = 'lower right', prop={'size': 14})\n",
    "  plt.xlabel(xlabel = 'Recall', size = 14)\n",
    "  plt.ylabel(ylabel = 'Precision', size = 14)\n",
    "  plt.title(label = 'Precision Recall Curve', size = 16)"
   ]
  },
  {
   "cell_type": "markdown",
   "metadata": {
    "colab_type": "text",
    "id": "Yy0ufZWy6xN1"
   },
   "source": [
    "<a id = Section81></a>\n",
    "## 8.1 Baseline Models"
   ]
  },
  {
   "cell_type": "code",
   "execution_count": null,
   "metadata": {
    "colab": {},
    "colab_type": "code",
    "id": "NlNKio7oFoI9"
   },
   "outputs": [],
   "source": [
    "imp_feature = X_data[['emp_duration', 'annual_pay', 'loan_amount', 'interest_rate', 'dti', 'total_pymnt', 'total_rec_prncp', 'recoveries', 'installment']]\n",
    "X_train, X_test, y_train, y_test = train_test_split(imp_feature, y, test_size = 0.2, random_state = 42, stratify = y)"
   ]
  },
  {
   "cell_type": "markdown",
   "metadata": {
    "colab_type": "text",
    "id": "5LgdO-VYHl4j"
   },
   "source": [
    "### **Logisitic Regression**"
   ]
  },
  {
   "cell_type": "code",
   "execution_count": null,
   "metadata": {
    "colab": {
     "base_uri": "https://localhost:8080/",
     "height": 706
    },
    "colab_type": "code",
    "id": "lRdMPa6mGu4K",
    "outputId": "60ae7813-2aa2-4255-8fdb-f38e1c3dbf96"
   },
   "outputs": [],
   "source": [
    "log  = LogisticRegression(random_state = 42)\n",
    "log.fit(X_train, y_train)\n",
    "y_pred = log.predict(X_test)\n",
    "\n",
    "# Accuracy Estimation\n",
    "print('Accuracy Score (Train Data):', np.round(log.score(X_train, y_train), decimals = 3))\n",
    "print('Accuracy Score (Test Data):', np.round(log.score(X_test, y_test), decimals = 3))\n",
    "\n",
    "# Classification Report\n",
    "logistic_report = classification_report(y_test, y_pred)\n",
    "print(logistic_report)\n",
    "\n",
    "# Precision Recall Curve\n",
    "figure = plt.figure(figsize = [10, 8])\n",
    "PRCurve(model = log)\n",
    "plt.show()"
   ]
  },
  {
   "cell_type": "markdown",
   "metadata": {
    "colab_type": "text",
    "id": "Y9yH37W50DIx"
   },
   "source": [
    "**Observation:**\n",
    "\n",
    "- The **accuracy comes out to be 95%**, but we can analyze something strange here.\n",
    "- **Recall of minority class is very less i.e 34% and f1 score comes out to be 51%**. \n",
    "- The **average precision** comes out to be **54.3%** only. \n",
    "- It can be seen that model is more biased towards minority class. Let's see how random forest behaves on this imbalanced data."
   ]
  },
  {
   "cell_type": "markdown",
   "metadata": {
    "colab_type": "text",
    "id": "YEWT15t6HsJU"
   },
   "source": [
    "### **Random Forest Classifier**"
   ]
  },
  {
   "cell_type": "code",
   "execution_count": null,
   "metadata": {
    "colab": {
     "base_uri": "https://localhost:8080/",
     "height": 706
    },
    "colab_type": "code",
    "id": "PpYDEkUmHwgJ",
    "outputId": "d4e77ba1-a10b-404e-8c5f-232cf7eb1af7"
   },
   "outputs": [],
   "source": [
    "rfc = RandomForestClassifier(n_estimators = 100, max_depth = 5, random_state = 42, n_jobs = -1)\n",
    "rfc.fit(X_train, y_train)\n",
    "\n",
    "y_pred = rfc.predict(X_test)\n",
    "\n",
    "# Accuracy Estimation\n",
    "print('Accuracy Score (Train Data):', np.round(rfc.score(X_train, y_train), decimals = 3))\n",
    "print('Accuracy Score (Test Data):', np.round(rfc.score(X_test, y_test), decimals = 3))\n",
    "\n",
    "# Classification Report\n",
    "random_forest_report = classification_report(y_test, y_pred)\n",
    "print(random_forest_report)\n",
    "\n",
    "# Precision Recall Curve\n",
    "figure = plt.figure(figsize = [10, 8])\n",
    "PRCurve(model = rfc)\n",
    "plt.show()"
   ]
  },
  {
   "cell_type": "markdown",
   "metadata": {
    "colab_type": "text",
    "id": "eB8ssrp31Yjg"
   },
   "source": [
    "**Observation:**\n",
    "\n",
    "- It seems there is **no change in accuracy but in recall of minority class i.e. 36% and f1 score of 53%**. \n",
    "- The average precision comes out to be 55.5%.\n",
    "- **Random Forest failed to handle this undersampled data**. Let's try it on Extreme Gradient Boosting."
   ]
  },
  {
   "cell_type": "markdown",
   "metadata": {
    "colab_type": "text",
    "id": "sokBNbc4ecva"
   },
   "source": [
    "### **Extreme Gradient Boosting Classifier**"
   ]
  },
  {
   "cell_type": "code",
   "execution_count": null,
   "metadata": {
    "colab": {
     "base_uri": "https://localhost:8080/",
     "height": 706
    },
    "colab_type": "code",
    "id": "lpqyoxjNbObi",
    "outputId": "f4e32e03-3f5c-41ce-ed38-187885213b56"
   },
   "outputs": [],
   "source": [
    "clf = XGBClassifier(max_depth = 5, n_jobs = -1, random_state = 42)\n",
    "clf.fit(X_train, y_train)\n",
    "\n",
    "y_pred = clf.predict(X_test)\n",
    "\n",
    "# Accuracy Estimation\n",
    "print('Accuracy Score (Train Data):', np.round(clf.score(X_train, y_train), decimals = 3))\n",
    "print('Accuracy Score (Test Data):', np.round(clf.score(X_test, y_test), decimals = 3))\n",
    "\n",
    "# Classification Report\n",
    "XGB_report = classification_report(y_test, y_pred)\n",
    "print(XGB_report)\n",
    "\n",
    "# Precision Recall Curve\n",
    "figure = plt.figure(figsize = [10, 8])\n",
    "PRCurve(model = clf)\n",
    "plt.show()"
   ]
  },
  {
   "cell_type": "markdown",
   "metadata": {
    "colab_type": "text",
    "id": "7c1gJtv-7Ze8"
   },
   "source": [
    "**Observation:**\n",
    "\n",
    "- We can see that average precision recall has improved to 60% only.\n",
    "- As our Precision Recall values are not good because our data set is **highly imbalanced**. \n",
    "- We will opt **Synthetic Minority Oversampling Technique (SMOTE)** to bias data to solve the class imbalance problem."
   ]
  },
  {
   "cell_type": "markdown",
   "metadata": {
    "colab_type": "text",
    "id": "EP9x7CC_6Z6G"
   },
   "source": [
    "<a id = Section82></a>\n",
    "## 8.2 Oversampling Models"
   ]
  },
  {
   "cell_type": "markdown",
   "metadata": {
    "colab_type": "text",
    "id": "CXOkGawfAXEU"
   },
   "source": [
    "### **SMOTE Technique & its Implementation**\n",
    "\n",
    "- Synthetic Minority Oversampling Technique(SMOTE) **aims to balance class distribution by randomly increasing minority class examples by replicating them.** \n",
    "- **SMOTE** synthesises new minority instances between existing minority instances. \n",
    "- **It generates the virtual training records by linear interpolation for the minority class.** \n",
    "- These **synthetic training records are generated by randomly selecting** one or more of the k-nearest neighbors for each **example in the minority class**. \n",
    "- **After** the **oversampling process**, the **data is reconstructed** and several classification models can be applied for the processed data."
   ]
  },
  {
   "cell_type": "code",
   "execution_count": null,
   "metadata": {
    "colab": {},
    "colab_type": "code",
    "id": "zbg995esAfpJ"
   },
   "outputs": [],
   "source": [
    "# Have some patience, may take some time\n",
    "sm = SMOTE(random_state = 42, ratio = 1)\n",
    "X, y = sm.fit_sample(X_data, y)\n",
    "X_new = pd.DataFrame(data = X, columns = X_data.columns)\n",
    "X_train, X_test, y_train, y_test = train_test_split(X_new, y, test_size = 0.2, random_state = 42, stratify = y)"
   ]
  },
  {
   "cell_type": "code",
   "execution_count": null,
   "metadata": {
    "colab": {
     "base_uri": "https://localhost:8080/",
     "height": 224
    },
    "colab_type": "code",
    "id": "ioIl4ZdP1uQI",
    "outputId": "769fb298-09ac-4df4-df33-138f469b849a"
   },
   "outputs": [],
   "source": [
    "X_new.head()"
   ]
  },
  {
   "cell_type": "markdown",
   "metadata": {
    "colab_type": "text",
    "id": "daJ00ZcNHCwP"
   },
   "source": [
    "### **Logistic Regression**"
   ]
  },
  {
   "cell_type": "code",
   "execution_count": null,
   "metadata": {
    "colab": {
     "base_uri": "https://localhost:8080/",
     "height": 706
    },
    "colab_type": "code",
    "id": "t8oUCS57F8kF",
    "outputId": "16a83cf5-399b-439c-d003-95ee917f8295"
   },
   "outputs": [],
   "source": [
    "log  = LogisticRegression(random_state = 42)\n",
    "log.fit(X_train, y_train)\n",
    "y_pred = log.predict(X_test)\n",
    "\n",
    "# Accuracy Estimation\n",
    "print('Accuracy Score (Train Data):', np.round(log.score(X_train, y_train), decimals = 3))\n",
    "print('Accuracy Score (Test Data):', np.round(log.score(X_test, y_test), decimals = 3))\n",
    "\n",
    "# Classification Report\n",
    "logistic_report = classification_report(y_test, y_pred)\n",
    "print(logistic_report)\n",
    "\n",
    "# Precision Recall Curve\n",
    "figure = plt.figure(figsize = [10, 8])\n",
    "PRCurve(model = log)\n",
    "plt.show()"
   ]
  },
  {
   "cell_type": "markdown",
   "metadata": {
    "colab_type": "text",
    "id": "Yt2pZSTX9oBW"
   },
   "source": [
    "**Observation:**\n",
    "\n",
    "- The result as comparsion to baseline is much better. Even the accuracy has been **dropped to 78%** but still **our precision, recall & f1 score comes out to be much better**. \n",
    "- Our **average precision recall** comes out to be **much better from before** as well.\n",
    "- Let's see how random forest will be affected after balacing our minority class."
   ]
  },
  {
   "cell_type": "markdown",
   "metadata": {
    "colab_type": "text",
    "id": "0FD7BF-1Hboy"
   },
   "source": [
    "### **Random Forest Classifier**"
   ]
  },
  {
   "cell_type": "code",
   "execution_count": null,
   "metadata": {
    "colab": {
     "base_uri": "https://localhost:8080/",
     "height": 706
    },
    "colab_type": "code",
    "id": "-fs4Q3PUHege",
    "outputId": "c846b67c-525a-46b2-ff14-4c511b5a1205"
   },
   "outputs": [],
   "source": [
    "rfc = RandomForestClassifier(n_estimators = 100, max_depth = 5, random_state = 42, n_jobs = -1)\n",
    "rfc.fit(X_train, y_train)\n",
    "\n",
    "y_pred = rfc.predict(X_test)\n",
    "\n",
    "# Accuracy Estimation\n",
    "print('Accuracy Score (Train Data):', np.round(rfc.score(X_train, y_train), decimals = 3))\n",
    "print('Accuracy Score (Test Data):', np.round(rfc.score(X_test, y_test), decimals = 3))\n",
    "\n",
    "# Classification Report\n",
    "random_forest_report = classification_report(y_test, y_pred)\n",
    "print(random_forest_report)\n",
    "\n",
    "# Precision Recall Curve\n",
    "figure = plt.figure(figsize = [10, 8])\n",
    "PRCurve(model = rfc)\n",
    "plt.show()"
   ]
  },
  {
   "cell_type": "markdown",
   "metadata": {
    "colab_type": "text",
    "id": "z5xiNxOv-kPR"
   },
   "source": [
    "**Observation:**\n",
    "\n",
    "- It can bee seen that **average precision recall score has improved to 90%**. \n",
    "- The **accuracy** has **improved only 1%** more **than Logistic Regression**.\n",
    "- We will **analyze** how the **XGboosting algorithm** will behave."
   ]
  },
  {
   "cell_type": "markdown",
   "metadata": {
    "colab_type": "text",
    "id": "51wnfkimH_Ch"
   },
   "source": [
    "### **Extreme Gradient Boosting Classifier**"
   ]
  },
  {
   "cell_type": "code",
   "execution_count": null,
   "metadata": {
    "colab": {
     "base_uri": "https://localhost:8080/",
     "height": 706
    },
    "colab_type": "code",
    "id": "h6ZRyUBXIDlV",
    "outputId": "e5b0bc18-d379-4698-f589-20ffe65253b7"
   },
   "outputs": [],
   "source": [
    "clf = XGBClassifier(max_depth = 5, n_jobs = -1, random_state = 42)\n",
    "clf.fit(X_train, y_train)\n",
    "\n",
    "y_pred = clf.predict(X_test)\n",
    "\n",
    "# Accuracy Estimation\n",
    "print('Accuracy Score (Train Data):', np.round(clf.score(X_train, y_train), decimals = 3))\n",
    "print('Accuracy Score (Test Data):', np.round(clf.score(X_test, y_test), decimals = 3))\n",
    "\n",
    "# Classification Report\n",
    "XGB_report = classification_report(y_test, y_pred)\n",
    "print(XGB_report)\n",
    "\n",
    "# Precision Recall Curve\n",
    "figure = plt.figure(figsize = [10, 8])\n",
    "PRCurve(model = clf)\n",
    "plt.show()"
   ]
  },
  {
   "cell_type": "markdown",
   "metadata": {
    "colab_type": "text",
    "id": "E2yj72woQ-Iw"
   },
   "source": [
    "**Observation:**\n",
    "\n",
    "- It can be seen that our **model accuracy has been increased to ~92% after balancing our data & applying boosting algorithm**. \n",
    "- The average **precision** comes out to be **97.8%** with respect to the previous models."
   ]
  },
  {
   "cell_type": "markdown",
   "metadata": {
    "colab_type": "text",
    "id": "DQyB0Lx55BDa"
   },
   "source": [
    "### **Model Performances**"
   ]
  },
  {
   "cell_type": "code",
   "execution_count": null,
   "metadata": {
    "colab": {
     "base_uri": "https://localhost:8080/",
     "height": 527
    },
    "colab_type": "code",
    "id": "SJEwNM555M5g",
    "outputId": "37408fee-47d5-476c-f119-f81b81b71803"
   },
   "outputs": [],
   "source": [
    "model_names = ['--------------------Logistic Regression---------------------\\n',  \n",
    "               '\\n------------------Random Forest Classifier------------------\\n', \n",
    "               '\\n------------Extreme Gradient Boosting Classifier------------\\n']\n",
    "report = model_names[0] + logistic_report + model_names[1] + random_forest_report + model_names[2] + XGB_report\n",
    "print(report)"
   ]
  },
  {
   "cell_type": "markdown",
   "metadata": {
    "colab_type": "text",
    "id": "N6M3Bd_z5Icq"
   },
   "source": [
    "### **Feature Importances:**"
   ]
  },
  {
   "cell_type": "markdown",
   "metadata": {
    "colab_type": "text",
    "id": "k6RAFkT28suk"
   },
   "source": [
    "Now that we know that **XGBoost** outperformed other models, we can check **which features** have been cateogrized as **important** learned by the **model**."
   ]
  },
  {
   "cell_type": "code",
   "execution_count": null,
   "metadata": {
    "colab": {
     "base_uri": "https://localhost:8080/",
     "height": 514
    },
    "colab_type": "code",
    "id": "4nXDHTpX1Gq2",
    "outputId": "06aafc20-0e5d-4122-e834-f2c702a5183d"
   },
   "outputs": [],
   "source": [
    "fig = plt.figure(figsize = [12, 8])\n",
    "ax = fig.add_subplot(1, 1, 1)\n",
    "colours = ['#CAF270', '#95E681', '#65D794', '#3CC5A3', '#26B1AC', '#359CAC', '#4D86A4', '#607093', '#695B7C']\n",
    "ax = plot_importance(clf, height = 1, color = colours, grid = False, show_values = False, importance_type = 'cover', ax = ax)\n",
    "total = data.shape[0]\n",
    "for p in ax.patches:\n",
    "        percentage = '{:.2f}%'.format(100 * p.get_width()/total)\n",
    "        x = p.get_x() + p.get_width() + 0.2\n",
    "        y = p.get_y() + p.get_height() / 2\n",
    "        ax.annotate(percentage, (x, y))\n",
    "plt.title('Ordering feature importance learned by model', size = 14)\n",
    "plt.show()"
   ]
  },
  {
   "cell_type": "markdown",
   "metadata": {
    "colab_type": "text",
    "id": "649-kgUr-7mA"
   },
   "source": [
    "<a id = Section9></a>\n",
    "# 9. Conclusion"
   ]
  },
  {
   "cell_type": "markdown",
   "metadata": {
    "colab_type": "text",
    "id": "ib8n2A7UAbZO"
   },
   "source": [
    "- We investigated in depth about the features i.e. **which features are important to retain (year, emp_duration, annual_pay, loan_amount, interest_rate, dti, total_pymnt, total_rec_prncp, recoveries, installment) and which to discard.**\n",
    "- **Important feature extraction** was especially **done with the help of Random Forest** which **intrinsically performed operations** and **estimated important features** and later down by XGBoost algorithm.\n",
    "- We **handled largely skewed data along with outliers using certain operations like capping and then normalizing on annual_income, interest_rate and dti features.**\n",
    "- We **explored various questions** that were related to the customer being default or not.\n",
    "- To **deal with highly imbalanced data, we choose an appropriate metric i.e. SMOTE** to balance our data.\n",
    "- We **applied different machine learning algorithms** like Logistic Regression, Random Forest and XGBoost and **found XGBoost outperforming rest of the models**."
   ]
  },
  {
   "cell_type": "code",
   "execution_count": null,
   "metadata": {},
   "outputs": [],
   "source": []
  }
 ],
 "metadata": {
  "colab": {
   "collapsed_sections": [],
   "machine_shape": "hm",
   "name": "Credit Default Risk Analysis & its Detection.ipynb",
   "provenance": []
  },
  "kernelspec": {
   "display_name": "Python 3",
   "language": "python",
   "name": "python3"
  },
  "language_info": {
   "codemirror_mode": {
    "name": "ipython",
    "version": 3
   },
   "file_extension": ".py",
   "mimetype": "text/x-python",
   "name": "python",
   "nbconvert_exporter": "python",
   "pygments_lexer": "ipython3",
   "version": "3.7.4"
  }
 },
 "nbformat": 4,
 "nbformat_minor": 1
}
